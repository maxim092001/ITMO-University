{
 "cells": [
  {
   "cell_type": "markdown",
   "id": "loose-emerald",
   "metadata": {},
   "source": [
    "# 1. ResolutionFailure: Your dependencies could not be resolved\n",
    "\n",
    "Найдите python пакет, имеющий зависимость от любого python пакета, использованного вами в первой лабораторной. Создайте свой пакет и установите его с конфликтующими зависимостями\n",
    "\n",
    "1. Создайте и [загрузите в pypi](https://betterscientificsoftware.github.io/python-for-hpc/tutorials/python-pypi-packaging/) свой пакет, проверьте, что его можно установить через pip\n",
    "1. Установите свой пакет с помощью pip\n",
    "1. Установите свой пакет в любую вируальную среду\n",
    "1. Продемонстрируйте корректно работающие функции в своём python-пакете"
   ]
  },
  {
   "cell_type": "markdown",
   "id": "animated-fight",
   "metadata": {},
   "source": [
    "# 2. Да кто так пишет?!\n",
    "\n",
    "Возьмите произвольный дипломный проект по машинному обучению. Для этого скорее всего будет достаточно найти на github проекты по запросу \"machine learning thesis\" и профильтровать по языку \"Jupyter Notebook\". С большой вероятностью код случайно выбранного диплома в этой сфере будет ужасным. Приведите код в порядок:\n",
    "\n",
    "- вынесите занимающий место функционал в python модули\n",
    "- напишите аннотации типов для функций\n",
    "- добавьте конфиги для параметров\n",
    "- если это не требует углубления в логику дипломной работы, расставьте порядок запуска ноутбуков и/или скриптов\n",
    "- для случайных процессов зафиксируйте seed\n",
    "- выделите зависимости, создайте pipenv файлы\n",
    "- сделайте пулреквест автору: покажите своё культурное превосходство\n",
    "\n",
    "\n",
    "Выберите такой проект, который:\n",
    "- ещё не был выбран вашими одногруппниками\n",
    "- относительно небольшой по количеству файлов. Не стоит тратить много времени на это задание\n",
    "- содержит как минимум половину грехов из списка исправлений выше"
   ]
  },
  {
   "cell_type": "markdown",
   "id": "alive-armor",
   "metadata": {},
   "source": [
    "# 3. Press Shift+Enter to get 300k/sec salary\n",
    "\n",
    "Выберите произвольный Google Colab notebook из этого крутого [репозитория](https://github.com/amrzv/awesome-colab-notebooks), запустите и примените к своим данным"
   ]
  },
  {
   "cell_type": "markdown",
   "id": "ff65b865-566f-41a9-b4af-153c5e663a91",
   "metadata": {},
   "source": [
    "# 1. ResolutionFailure: Your dependencies could not be resolved\n"
   ]
  },
  {
   "cell_type": "code",
   "execution_count": 2,
   "id": "a35ba040-cdf2-4983-8dc3-38a43d38c288",
   "metadata": {},
   "outputs": [
    {
     "name": "stdout",
     "output_type": "stream",
     "text": [
      "\u001b[33mDEPRECATION: Configuring installation scheme with distutils config files is deprecated and will no longer work in the near future. If you are using a Homebrew or Linuxbrew Python, please see discussion at https://github.com/Homebrew/homebrew-core/issues/76621\u001b[0m\n",
      "Requirement already satisfied: conflict_maximgran in /opt/homebrew/lib/python3.9/site-packages (0.2.0)\n",
      "\u001b[33mWARNING: You are using pip version 21.2.4; however, version 21.3 is available.\n",
      "You should consider upgrading via the '/opt/homebrew/opt/python@3.9/bin/python3.9 -m pip install --upgrade pip' command.\u001b[0m\n",
      "Note: you may need to restart the kernel to use updated packages.\n"
     ]
    }
   ],
   "source": [
    "%pip install conflict_maximgran"
   ]
  },
  {
   "cell_type": "code",
   "execution_count": 12,
   "id": "200cb603-4c1c-4572-8fcd-6c6f44074488",
   "metadata": {},
   "outputs": [
    {
     "name": "stdout",
     "output_type": "stream",
     "text": [
      "\u001b[33mDEPRECATION: Configuring installation scheme with distutils config files is deprecated and will no longer work in the near future. If you are using a Homebrew or Linuxbrew Python, please see discussion at https://github.com/Homebrew/homebrew-core/issues/76621\u001b[0m\n",
      "Requirement already satisfied: numpy in /opt/homebrew/lib/python3.9/site-packages (1.21.0)\n",
      "\u001b[33mWARNING: You are using pip version 21.2.4; however, version 21.3 is available.\n",
      "You should consider upgrading via the '/opt/homebrew/opt/python@3.9/bin/python3.9 -m pip install --upgrade pip' command.\u001b[0m\n",
      "Note: you may need to restart the kernel to use updated packages.\n",
      "\u001b[33mDEPRECATION: Configuring installation scheme with distutils config files is deprecated and will no longer work in the near future. If you are using a Homebrew or Linuxbrew Python, please see discussion at https://github.com/Homebrew/homebrew-core/issues/76621\u001b[0m\n",
      "Requirement already satisfied: scipy in /opt/homebrew/lib/python3.9/site-packages (1.7.1)\n",
      "Requirement already satisfied: numpy<1.23.0,>=1.16.5 in /opt/homebrew/lib/python3.9/site-packages (from scipy) (1.21.0)\n",
      "\u001b[33mWARNING: You are using pip version 21.2.4; however, version 21.3 is available.\n",
      "You should consider upgrading via the '/opt/homebrew/opt/python@3.9/bin/python3.9 -m pip install --upgrade pip' command.\u001b[0m\n",
      "Note: you may need to restart the kernel to use updated packages.\n"
     ]
    }
   ],
   "source": [
    "%pip install numpy\n",
    "%pip install scipy"
   ]
  },
  {
   "cell_type": "markdown",
   "id": "d577541f-d99d-4d39-9980-528d17147645",
   "metadata": {},
   "source": [
    "PyPi: https://pypi.org/project/conflict-maximgran/"
   ]
  },
  {
   "cell_type": "raw",
   "id": "d4531a14-30c7-49ac-af16-b88454f592a1",
   "metadata": {},
   "source": [
    "maximgran@MBP-Maxim~/I/d/l/test-conflict> source source/bin/venv/bin/activate.fish\n",
    "\n",
    "(venv) maximgran@MBP-Maxim~/I/d/l/conflict> pip3 install conflict_maximgran\n",
    "Collecting conflict_maximgran\n",
    "  Using cached conflict_maximgran-0.2.0.tar.gz (751 bytes)\n",
    "Using legacy 'setup.py install' for conflict-maximgran, since package 'wheel' is not installed.\n",
    "Installing collected packages: conflict-maximgran\n",
    "    Running setup.py install for conflict-maximgran ... done\n",
    "Successfully installed conflict-maximgran-0.2.0\n",
    "\n",
    "(venv) maximgran@MBP-Maxim~/I/d/l/test-conflict> pip3 install numpy\n",
    "Collecting numpy\n",
    "  Using cached numpy-1.21.2-cp39-cp39-macosx_11_0_arm64.whl (12.4 MB)\n",
    "Installing collected packages: numpy\n",
    "Successfully installed numpy-1.21.2\n",
    "(venv) maximgran@MBP-Maxim~/I/d/l/test-conflict> python3 test.py\n",
    "6"
   ]
  },
  {
   "cell_type": "markdown",
   "id": "a0379c75-3883-4969-977c-1169bb59b6fd",
   "metadata": {},
   "source": [
    "# 2. Да кто так пишет?!"
   ]
  },
  {
   "cell_type": "markdown",
   "id": "aa871049-9081-4757-8600-e25f0c2042c3",
   "metadata": {},
   "source": [
    "Показать ~прикольный~ диплом"
   ]
  },
  {
   "cell_type": "markdown",
   "id": "09abf54c-4c7e-4979-bf85-2877c2d8bf6e",
   "metadata": {},
   "source": [
    "# 3. Press Shift+Enter to get 300k/sec salary\n",
    "\n",
    "Выберите произвольный Google Colab notebook из этого крутого [репозитория](https://github.com/amrzv/awesome-colab-notebooks), запустите и примените к своим данным\n",
    "\n",
    "Показать мем\n"
   ]
  },
  {
   "cell_type": "code",
   "execution_count": null,
   "id": "ec15337a-53ab-4b45-827e-667405f2a3dd",
   "metadata": {},
   "outputs": [],
   "source": []
  },
  {
   "cell_type": "code",
   "execution_count": null,
   "id": "87dad8c3-50c6-425e-8215-5f084454ec44",
   "metadata": {},
   "outputs": [],
   "source": []
  }
 ],
 "metadata": {
  "kernelspec": {
   "display_name": "Python 3 (ipykernel)",
   "language": "python",
   "name": "python3"
  },
  "language_info": {
   "codemirror_mode": {
    "name": "ipython",
    "version": 3
   },
   "file_extension": ".py",
   "mimetype": "text/x-python",
   "name": "python",
   "nbconvert_exporter": "python",
   "pygments_lexer": "ipython3",
   "version": "3.9.7"
  }
 },
 "nbformat": 4,
 "nbformat_minor": 5
}
