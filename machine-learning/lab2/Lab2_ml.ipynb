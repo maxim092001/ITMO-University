{
  "cells": [
    {
      "cell_type": "code",
      "execution_count": null,
      "metadata": {
        "colab": {
          "base_uri": "https://localhost:8080/"
        },
        "id": "aA5P0eJhSnC2",
        "outputId": "ba656091-5268-4f45-807e-b30cbc1cbf2b"
      },
      "outputs": [
        {
          "output_type": "stream",
          "name": "stdout",
          "text": [
            "Drive already mounted at /content/drive; to attempt to forcibly remount, call drive.mount(\"/content/drive\", force_remount=True).\n"
          ]
        }
      ],
      "source": [
        "from google.colab import drive\n",
        "drive.mount('/content/drive')"
      ]
    },
    {
      "cell_type": "markdown",
      "metadata": {
        "id": "eLGZaqjCTFD_"
      },
      "source": [
        "# Read data"
      ]
    },
    {
      "cell_type": "code",
      "execution_count": null,
      "metadata": {
        "id": "cDk66UXWSnyA"
      },
      "outputs": [],
      "source": [
        "import numpy as np\n",
        "import pandas as pd\n",
        "\n",
        "train = []\n",
        "test = []\n",
        "with open(\"/content/drive/MyDrive/data/1.txt\")  as f:\n",
        "  n, m = (int(f.readline()), int(f.readline()))\n",
        "  for _ in range(m):\n",
        "    train.append([float(a) for a in f.readline().split()])\n",
        "  k = int(f.readline())\n",
        "  for _ in range(k):\n",
        "    test.append([float(a) for a in f.readline().split()])\n",
        "test = pd.DataFrame(test)\n",
        "train = pd.DataFrame(train)"
      ]
    },
    {
      "cell_type": "markdown",
      "metadata": {
        "id": "LfjZww3VUOqD"
      },
      "source": [
        "# Shape"
      ]
    },
    {
      "cell_type": "code",
      "execution_count": null,
      "metadata": {
        "id": "Qi589g9ITxFM",
        "colab": {
          "base_uri": "https://localhost:8080/"
        },
        "outputId": "a72aa007-3caa-4f87-ba8c-c9cc6e265b5e"
      },
      "outputs": [
        {
          "output_type": "execute_result",
          "data": {
            "text/plain": [
              "(1164, 429)"
            ]
          },
          "metadata": {},
          "execution_count": 101
        }
      ],
      "source": [
        "train.shape"
      ]
    },
    {
      "cell_type": "code",
      "execution_count": null,
      "metadata": {
        "id": "lWZHwr-xUQ2e",
        "colab": {
          "base_uri": "https://localhost:8080/"
        },
        "outputId": "88e9b131-2de7-42a1-f6c7-4e0b6ed5247b"
      },
      "outputs": [
        {
          "output_type": "execute_result",
          "data": {
            "text/plain": [
              "(256, 429)"
            ]
          },
          "metadata": {},
          "execution_count": 102
        }
      ],
      "source": [
        "test.shape"
      ]
    },
    {
      "cell_type": "markdown",
      "metadata": {
        "id": "6zCGEhXVU5y0"
      },
      "source": [
        "# Scale"
      ]
    },
    {
      "cell_type": "code",
      "execution_count": null,
      "metadata": {
        "id": "tiSXjicyUTXv"
      },
      "outputs": [],
      "source": [
        "from sklearn.preprocessing import MinMaxScaler\n",
        "minmax = MinMaxScaler()\n",
        "minmax.fit(train.values)\n",
        "\n",
        "train = pd.DataFrame(minmax.transform(train.values))\n",
        "test = pd.DataFrame(minmax.transform(test.values))"
      ]
    },
    {
      "cell_type": "code",
      "execution_count": null,
      "metadata": {
        "id": "ytjPE3f8Za03",
        "colab": {
          "base_uri": "https://localhost:8080/",
          "height": 423
        },
        "outputId": "53fad019-749c-4e36-f5c7-1f644ecfd9cc"
      },
      "outputs": [
        {
          "output_type": "execute_result",
          "data": {
            "text/plain": [
              "          0         1    2    3    4         5         6         7    8    \\\n",
              "0    0.541636  0.515337  0.0  0.0  0.0  0.515789  0.516679  0.458738  0.0   \n",
              "1    0.409469  0.490798  0.0  0.0  0.0  0.494737  0.494440  0.590807  0.0   \n",
              "2    0.327233  0.374233  0.0  0.0  0.0  0.368421  0.375093  0.672827  0.0   \n",
              "3    0.526195  0.282209  0.0  0.0  0.0  0.284211  0.287620  0.473923  0.0   \n",
              "4    0.447228  0.423313  0.0  0.0  0.0  0.421053  0.426242  0.552644  0.0   \n",
              "..        ...       ...  ...  ...  ...       ...       ...       ...  ...   \n",
              "251  0.608891  0.441718  0.0  0.0  0.0  0.442105  0.441067  0.390699  0.0   \n",
              "252  0.607278  0.527607  0.0  0.0  0.0  0.526316  0.532246  0.392490  0.0   \n",
              "253  0.267643  0.570552  0.0  0.0  0.0  0.568421  0.571534  0.732730  0.0   \n",
              "254  0.651641  0.478528  0.0  0.0  0.0  0.473684  0.480356  0.348366  0.0   \n",
              "255  0.740731  0.730061  0.0  0.0  0.0  0.736842  0.733877  0.259644  0.0   \n",
              "\n",
              "     9    ...       419  420       421       422       423       424  \\\n",
              "0    0.0  ...  0.220630  0.0  0.769591  0.250348  0.250349  0.460476   \n",
              "1    0.0  ...  0.603168  0.0  0.775958  0.396966  0.396964  0.350039   \n",
              "2    0.0  ...  0.617794  0.0  0.710793  0.535845  0.535845  0.324319   \n",
              "3    0.0  ...  0.325031  0.0  0.702489  0.314092  0.314092  0.523561   \n",
              "4    0.0  ...  0.623672  0.0  0.434609  0.589712  0.589710  0.472099   \n",
              "..   ...  ...       ...  ...       ...       ...       ...       ...   \n",
              "251  0.0  ...  0.717409  0.0  0.072883  0.655050  0.655048  0.683485   \n",
              "252  0.0  ...  0.575954  0.0  0.173248  0.587625  0.587624  0.636421   \n",
              "253  0.0  ...  0.487385  0.0  0.896307  0.475947  0.475945  0.180310   \n",
              "254  0.0  ...  0.442775  0.0  0.396832  0.382286  0.382286  0.643258   \n",
              "255  0.0  ...  0.236403  0.0  0.502926  0.207454  0.207453  0.629421   \n",
              "\n",
              "          425  426       427       428  \n",
              "0    0.435852  0.0  0.749638  0.303168  \n",
              "1    0.331950  0.0  0.602991  0.487320  \n",
              "2    0.322021  0.0  0.464122  0.588037  \n",
              "3    0.519520  0.0  0.685902  0.344124  \n",
              "4    0.480072  0.0  0.410275  0.589823  \n",
              "..        ...  ...       ...       ...  \n",
              "251  0.708147  0.0  0.344911  0.596924  \n",
              "252  0.648247  0.0  0.412385  0.542300  \n",
              "253  0.154738  0.0  0.524059  0.565013  \n",
              "254  0.641683  0.0  0.617704  0.381223  \n",
              "255  0.599892  0.0  0.792511  0.238055  \n",
              "\n",
              "[256 rows x 429 columns]"
            ],
            "text/html": [
              "\n",
              "  <div id=\"df-16ee6578-1a90-4641-a30d-810f488c303b\">\n",
              "    <div class=\"colab-df-container\">\n",
              "      <div>\n",
              "<style scoped>\n",
              "    .dataframe tbody tr th:only-of-type {\n",
              "        vertical-align: middle;\n",
              "    }\n",
              "\n",
              "    .dataframe tbody tr th {\n",
              "        vertical-align: top;\n",
              "    }\n",
              "\n",
              "    .dataframe thead th {\n",
              "        text-align: right;\n",
              "    }\n",
              "</style>\n",
              "<table border=\"1\" class=\"dataframe\">\n",
              "  <thead>\n",
              "    <tr style=\"text-align: right;\">\n",
              "      <th></th>\n",
              "      <th>0</th>\n",
              "      <th>1</th>\n",
              "      <th>2</th>\n",
              "      <th>3</th>\n",
              "      <th>4</th>\n",
              "      <th>5</th>\n",
              "      <th>6</th>\n",
              "      <th>7</th>\n",
              "      <th>8</th>\n",
              "      <th>9</th>\n",
              "      <th>...</th>\n",
              "      <th>419</th>\n",
              "      <th>420</th>\n",
              "      <th>421</th>\n",
              "      <th>422</th>\n",
              "      <th>423</th>\n",
              "      <th>424</th>\n",
              "      <th>425</th>\n",
              "      <th>426</th>\n",
              "      <th>427</th>\n",
              "      <th>428</th>\n",
              "    </tr>\n",
              "  </thead>\n",
              "  <tbody>\n",
              "    <tr>\n",
              "      <th>0</th>\n",
              "      <td>0.541636</td>\n",
              "      <td>0.515337</td>\n",
              "      <td>0.0</td>\n",
              "      <td>0.0</td>\n",
              "      <td>0.0</td>\n",
              "      <td>0.515789</td>\n",
              "      <td>0.516679</td>\n",
              "      <td>0.458738</td>\n",
              "      <td>0.0</td>\n",
              "      <td>0.0</td>\n",
              "      <td>...</td>\n",
              "      <td>0.220630</td>\n",
              "      <td>0.0</td>\n",
              "      <td>0.769591</td>\n",
              "      <td>0.250348</td>\n",
              "      <td>0.250349</td>\n",
              "      <td>0.460476</td>\n",
              "      <td>0.435852</td>\n",
              "      <td>0.0</td>\n",
              "      <td>0.749638</td>\n",
              "      <td>0.303168</td>\n",
              "    </tr>\n",
              "    <tr>\n",
              "      <th>1</th>\n",
              "      <td>0.409469</td>\n",
              "      <td>0.490798</td>\n",
              "      <td>0.0</td>\n",
              "      <td>0.0</td>\n",
              "      <td>0.0</td>\n",
              "      <td>0.494737</td>\n",
              "      <td>0.494440</td>\n",
              "      <td>0.590807</td>\n",
              "      <td>0.0</td>\n",
              "      <td>0.0</td>\n",
              "      <td>...</td>\n",
              "      <td>0.603168</td>\n",
              "      <td>0.0</td>\n",
              "      <td>0.775958</td>\n",
              "      <td>0.396966</td>\n",
              "      <td>0.396964</td>\n",
              "      <td>0.350039</td>\n",
              "      <td>0.331950</td>\n",
              "      <td>0.0</td>\n",
              "      <td>0.602991</td>\n",
              "      <td>0.487320</td>\n",
              "    </tr>\n",
              "    <tr>\n",
              "      <th>2</th>\n",
              "      <td>0.327233</td>\n",
              "      <td>0.374233</td>\n",
              "      <td>0.0</td>\n",
              "      <td>0.0</td>\n",
              "      <td>0.0</td>\n",
              "      <td>0.368421</td>\n",
              "      <td>0.375093</td>\n",
              "      <td>0.672827</td>\n",
              "      <td>0.0</td>\n",
              "      <td>0.0</td>\n",
              "      <td>...</td>\n",
              "      <td>0.617794</td>\n",
              "      <td>0.0</td>\n",
              "      <td>0.710793</td>\n",
              "      <td>0.535845</td>\n",
              "      <td>0.535845</td>\n",
              "      <td>0.324319</td>\n",
              "      <td>0.322021</td>\n",
              "      <td>0.0</td>\n",
              "      <td>0.464122</td>\n",
              "      <td>0.588037</td>\n",
              "    </tr>\n",
              "    <tr>\n",
              "      <th>3</th>\n",
              "      <td>0.526195</td>\n",
              "      <td>0.282209</td>\n",
              "      <td>0.0</td>\n",
              "      <td>0.0</td>\n",
              "      <td>0.0</td>\n",
              "      <td>0.284211</td>\n",
              "      <td>0.287620</td>\n",
              "      <td>0.473923</td>\n",
              "      <td>0.0</td>\n",
              "      <td>0.0</td>\n",
              "      <td>...</td>\n",
              "      <td>0.325031</td>\n",
              "      <td>0.0</td>\n",
              "      <td>0.702489</td>\n",
              "      <td>0.314092</td>\n",
              "      <td>0.314092</td>\n",
              "      <td>0.523561</td>\n",
              "      <td>0.519520</td>\n",
              "      <td>0.0</td>\n",
              "      <td>0.685902</td>\n",
              "      <td>0.344124</td>\n",
              "    </tr>\n",
              "    <tr>\n",
              "      <th>4</th>\n",
              "      <td>0.447228</td>\n",
              "      <td>0.423313</td>\n",
              "      <td>0.0</td>\n",
              "      <td>0.0</td>\n",
              "      <td>0.0</td>\n",
              "      <td>0.421053</td>\n",
              "      <td>0.426242</td>\n",
              "      <td>0.552644</td>\n",
              "      <td>0.0</td>\n",
              "      <td>0.0</td>\n",
              "      <td>...</td>\n",
              "      <td>0.623672</td>\n",
              "      <td>0.0</td>\n",
              "      <td>0.434609</td>\n",
              "      <td>0.589712</td>\n",
              "      <td>0.589710</td>\n",
              "      <td>0.472099</td>\n",
              "      <td>0.480072</td>\n",
              "      <td>0.0</td>\n",
              "      <td>0.410275</td>\n",
              "      <td>0.589823</td>\n",
              "    </tr>\n",
              "    <tr>\n",
              "      <th>...</th>\n",
              "      <td>...</td>\n",
              "      <td>...</td>\n",
              "      <td>...</td>\n",
              "      <td>...</td>\n",
              "      <td>...</td>\n",
              "      <td>...</td>\n",
              "      <td>...</td>\n",
              "      <td>...</td>\n",
              "      <td>...</td>\n",
              "      <td>...</td>\n",
              "      <td>...</td>\n",
              "      <td>...</td>\n",
              "      <td>...</td>\n",
              "      <td>...</td>\n",
              "      <td>...</td>\n",
              "      <td>...</td>\n",
              "      <td>...</td>\n",
              "      <td>...</td>\n",
              "      <td>...</td>\n",
              "      <td>...</td>\n",
              "      <td>...</td>\n",
              "    </tr>\n",
              "    <tr>\n",
              "      <th>251</th>\n",
              "      <td>0.608891</td>\n",
              "      <td>0.441718</td>\n",
              "      <td>0.0</td>\n",
              "      <td>0.0</td>\n",
              "      <td>0.0</td>\n",
              "      <td>0.442105</td>\n",
              "      <td>0.441067</td>\n",
              "      <td>0.390699</td>\n",
              "      <td>0.0</td>\n",
              "      <td>0.0</td>\n",
              "      <td>...</td>\n",
              "      <td>0.717409</td>\n",
              "      <td>0.0</td>\n",
              "      <td>0.072883</td>\n",
              "      <td>0.655050</td>\n",
              "      <td>0.655048</td>\n",
              "      <td>0.683485</td>\n",
              "      <td>0.708147</td>\n",
              "      <td>0.0</td>\n",
              "      <td>0.344911</td>\n",
              "      <td>0.596924</td>\n",
              "    </tr>\n",
              "    <tr>\n",
              "      <th>252</th>\n",
              "      <td>0.607278</td>\n",
              "      <td>0.527607</td>\n",
              "      <td>0.0</td>\n",
              "      <td>0.0</td>\n",
              "      <td>0.0</td>\n",
              "      <td>0.526316</td>\n",
              "      <td>0.532246</td>\n",
              "      <td>0.392490</td>\n",
              "      <td>0.0</td>\n",
              "      <td>0.0</td>\n",
              "      <td>...</td>\n",
              "      <td>0.575954</td>\n",
              "      <td>0.0</td>\n",
              "      <td>0.173248</td>\n",
              "      <td>0.587625</td>\n",
              "      <td>0.587624</td>\n",
              "      <td>0.636421</td>\n",
              "      <td>0.648247</td>\n",
              "      <td>0.0</td>\n",
              "      <td>0.412385</td>\n",
              "      <td>0.542300</td>\n",
              "    </tr>\n",
              "    <tr>\n",
              "      <th>253</th>\n",
              "      <td>0.267643</td>\n",
              "      <td>0.570552</td>\n",
              "      <td>0.0</td>\n",
              "      <td>0.0</td>\n",
              "      <td>0.0</td>\n",
              "      <td>0.568421</td>\n",
              "      <td>0.571534</td>\n",
              "      <td>0.732730</td>\n",
              "      <td>0.0</td>\n",
              "      <td>0.0</td>\n",
              "      <td>...</td>\n",
              "      <td>0.487385</td>\n",
              "      <td>0.0</td>\n",
              "      <td>0.896307</td>\n",
              "      <td>0.475947</td>\n",
              "      <td>0.475945</td>\n",
              "      <td>0.180310</td>\n",
              "      <td>0.154738</td>\n",
              "      <td>0.0</td>\n",
              "      <td>0.524059</td>\n",
              "      <td>0.565013</td>\n",
              "    </tr>\n",
              "    <tr>\n",
              "      <th>254</th>\n",
              "      <td>0.651641</td>\n",
              "      <td>0.478528</td>\n",
              "      <td>0.0</td>\n",
              "      <td>0.0</td>\n",
              "      <td>0.0</td>\n",
              "      <td>0.473684</td>\n",
              "      <td>0.480356</td>\n",
              "      <td>0.348366</td>\n",
              "      <td>0.0</td>\n",
              "      <td>0.0</td>\n",
              "      <td>...</td>\n",
              "      <td>0.442775</td>\n",
              "      <td>0.0</td>\n",
              "      <td>0.396832</td>\n",
              "      <td>0.382286</td>\n",
              "      <td>0.382286</td>\n",
              "      <td>0.643258</td>\n",
              "      <td>0.641683</td>\n",
              "      <td>0.0</td>\n",
              "      <td>0.617704</td>\n",
              "      <td>0.381223</td>\n",
              "    </tr>\n",
              "    <tr>\n",
              "      <th>255</th>\n",
              "      <td>0.740731</td>\n",
              "      <td>0.730061</td>\n",
              "      <td>0.0</td>\n",
              "      <td>0.0</td>\n",
              "      <td>0.0</td>\n",
              "      <td>0.736842</td>\n",
              "      <td>0.733877</td>\n",
              "      <td>0.259644</td>\n",
              "      <td>0.0</td>\n",
              "      <td>0.0</td>\n",
              "      <td>...</td>\n",
              "      <td>0.236403</td>\n",
              "      <td>0.0</td>\n",
              "      <td>0.502926</td>\n",
              "      <td>0.207454</td>\n",
              "      <td>0.207453</td>\n",
              "      <td>0.629421</td>\n",
              "      <td>0.599892</td>\n",
              "      <td>0.0</td>\n",
              "      <td>0.792511</td>\n",
              "      <td>0.238055</td>\n",
              "    </tr>\n",
              "  </tbody>\n",
              "</table>\n",
              "<p>256 rows × 429 columns</p>\n",
              "</div>\n",
              "      <button class=\"colab-df-convert\" onclick=\"convertToInteractive('df-16ee6578-1a90-4641-a30d-810f488c303b')\"\n",
              "              title=\"Convert this dataframe to an interactive table.\"\n",
              "              style=\"display:none;\">\n",
              "        \n",
              "  <svg xmlns=\"http://www.w3.org/2000/svg\" height=\"24px\"viewBox=\"0 0 24 24\"\n",
              "       width=\"24px\">\n",
              "    <path d=\"M0 0h24v24H0V0z\" fill=\"none\"/>\n",
              "    <path d=\"M18.56 5.44l.94 2.06.94-2.06 2.06-.94-2.06-.94-.94-2.06-.94 2.06-2.06.94zm-11 1L8.5 8.5l.94-2.06 2.06-.94-2.06-.94L8.5 2.5l-.94 2.06-2.06.94zm10 10l.94 2.06.94-2.06 2.06-.94-2.06-.94-.94-2.06-.94 2.06-2.06.94z\"/><path d=\"M17.41 7.96l-1.37-1.37c-.4-.4-.92-.59-1.43-.59-.52 0-1.04.2-1.43.59L10.3 9.45l-7.72 7.72c-.78.78-.78 2.05 0 2.83L4 21.41c.39.39.9.59 1.41.59.51 0 1.02-.2 1.41-.59l7.78-7.78 2.81-2.81c.8-.78.8-2.07 0-2.86zM5.41 20L4 18.59l7.72-7.72 1.47 1.35L5.41 20z\"/>\n",
              "  </svg>\n",
              "      </button>\n",
              "      \n",
              "  <style>\n",
              "    .colab-df-container {\n",
              "      display:flex;\n",
              "      flex-wrap:wrap;\n",
              "      gap: 12px;\n",
              "    }\n",
              "\n",
              "    .colab-df-convert {\n",
              "      background-color: #E8F0FE;\n",
              "      border: none;\n",
              "      border-radius: 50%;\n",
              "      cursor: pointer;\n",
              "      display: none;\n",
              "      fill: #1967D2;\n",
              "      height: 32px;\n",
              "      padding: 0 0 0 0;\n",
              "      width: 32px;\n",
              "    }\n",
              "\n",
              "    .colab-df-convert:hover {\n",
              "      background-color: #E2EBFA;\n",
              "      box-shadow: 0px 1px 2px rgba(60, 64, 67, 0.3), 0px 1px 3px 1px rgba(60, 64, 67, 0.15);\n",
              "      fill: #174EA6;\n",
              "    }\n",
              "\n",
              "    [theme=dark] .colab-df-convert {\n",
              "      background-color: #3B4455;\n",
              "      fill: #D2E3FC;\n",
              "    }\n",
              "\n",
              "    [theme=dark] .colab-df-convert:hover {\n",
              "      background-color: #434B5C;\n",
              "      box-shadow: 0px 1px 3px 1px rgba(0, 0, 0, 0.15);\n",
              "      filter: drop-shadow(0px 1px 2px rgba(0, 0, 0, 0.3));\n",
              "      fill: #FFFFFF;\n",
              "    }\n",
              "  </style>\n",
              "\n",
              "      <script>\n",
              "        const buttonEl =\n",
              "          document.querySelector('#df-16ee6578-1a90-4641-a30d-810f488c303b button.colab-df-convert');\n",
              "        buttonEl.style.display =\n",
              "          google.colab.kernel.accessAllowed ? 'block' : 'none';\n",
              "\n",
              "        async function convertToInteractive(key) {\n",
              "          const element = document.querySelector('#df-16ee6578-1a90-4641-a30d-810f488c303b');\n",
              "          const dataTable =\n",
              "            await google.colab.kernel.invokeFunction('convertToInteractive',\n",
              "                                                     [key], {});\n",
              "          if (!dataTable) return;\n",
              "\n",
              "          const docLinkHtml = 'Like what you see? Visit the ' +\n",
              "            '<a target=\"_blank\" href=https://colab.research.google.com/notebooks/data_table.ipynb>data table notebook</a>'\n",
              "            + ' to learn more about interactive tables.';\n",
              "          element.innerHTML = '';\n",
              "          dataTable['output_type'] = 'display_data';\n",
              "          await google.colab.output.renderOutput(dataTable, element);\n",
              "          const docLink = document.createElement('div');\n",
              "          docLink.innerHTML = docLinkHtml;\n",
              "          element.appendChild(docLink);\n",
              "        }\n",
              "      </script>\n",
              "    </div>\n",
              "  </div>\n",
              "  "
            ]
          },
          "metadata": {},
          "execution_count": 104
        }
      ],
      "source": [
        "test"
      ]
    },
    {
      "cell_type": "code",
      "execution_count": null,
      "metadata": {
        "id": "YIhZFfluZqM0",
        "colab": {
          "base_uri": "https://localhost:8080/",
          "height": 423
        },
        "outputId": "b0c5f527-c411-4ae4-f2b3-825a0d7095b3"
      },
      "outputs": [
        {
          "output_type": "execute_result",
          "data": {
            "text/plain": [
              "           0         1    2    3    4         5         6         7    8    \\\n",
              "0     0.984952  0.380368  0.0  0.0  0.0  0.378947  0.380282  0.015206  0.0   \n",
              "1     0.932624  0.306748  0.0  0.0  0.0  0.305263  0.308377  0.067533  0.0   \n",
              "2     0.997814  0.601227  0.0  0.0  0.0  0.600000  0.600445  0.002404  0.0   \n",
              "3     1.000000  0.417178  0.0  0.0  0.0  0.421053  0.418829  0.000000  0.0   \n",
              "4     0.804221  0.251534  0.0  0.0  0.0  0.252632  0.255745  0.195958  0.0   \n",
              "...        ...       ...  ...  ...  ...       ...       ...       ...  ...   \n",
              "1159  0.159584  0.521472  0.0  0.0  0.0  0.515789  0.521868  0.840328  0.0   \n",
              "1160  0.000000  0.441718  0.0  0.0  0.0  0.442105  0.444774  1.000000  0.0   \n",
              "1161  0.101556  0.300613  0.0  0.0  0.0  0.294737  0.302446  0.898136  0.0   \n",
              "1162  0.255062  0.674847  0.0  0.0  0.0  0.673684  0.679021  0.744581  0.0   \n",
              "1163  0.090648  0.539877  0.0  0.0  0.0  0.536842  0.541142  0.909067  0.0   \n",
              "\n",
              "      9    ...       419  420       421       422       423       424  \\\n",
              "0     0.0  ...  0.149069  0.0  0.398622  0.000000  0.000000  0.960838   \n",
              "1     0.0  ...  0.346425  0.0  0.478101  0.004763  0.004763  0.918457   \n",
              "2     0.0  ...  0.157230  0.0  0.296496  0.056190  0.056190  0.932817   \n",
              "3     0.0  ...  0.093109  0.0  0.221618  0.105223  0.105222  1.000000   \n",
              "4     0.0  ...  0.000000  0.0  0.611372  0.059303  0.059304  0.793508   \n",
              "...   ...  ...       ...  ...       ...       ...       ...       ...   \n",
              "1159  0.0  ...  0.894836  0.0  0.579699  0.818258  0.818258  0.165189   \n",
              "1160  0.0  ...  0.673667  0.0  0.808166  0.842590  0.842589  0.000000   \n",
              "1161  0.0  ...  0.899683  0.0  0.565292  0.894250  0.894250  0.177591   \n",
              "1162  0.0  ...  0.834570  0.0  0.174187  0.989689  0.989689  0.288987   \n",
              "1163  0.0  ...  0.944332  0.0  0.430806  1.000000  1.000000  0.130547   \n",
              "\n",
              "           425  426       427       428  \n",
              "0     0.952097  0.0  1.000000  0.000000  \n",
              "1     0.911345  0.0  0.995236  0.043056  \n",
              "2     0.915604  0.0  0.943801  0.048539  \n",
              "3     1.000000  0.0  0.894778  0.053342  \n",
              "4     0.786278  0.0  0.940666  0.056457  \n",
              "...        ...  ...       ...       ...  \n",
              "1159  0.168821  0.0  0.181741  0.861361  \n",
              "1160  0.000000  0.0  0.157381  0.883249  \n",
              "1161  0.199349  0.0  0.105704  0.907703  \n",
              "1162  0.305426  0.0  0.010311  0.939165  \n",
              "1163  0.145777  0.0  0.000000  1.000000  \n",
              "\n",
              "[1164 rows x 429 columns]"
            ],
            "text/html": [
              "\n",
              "  <div id=\"df-63dadd51-ab19-4e88-9569-95157511d917\">\n",
              "    <div class=\"colab-df-container\">\n",
              "      <div>\n",
              "<style scoped>\n",
              "    .dataframe tbody tr th:only-of-type {\n",
              "        vertical-align: middle;\n",
              "    }\n",
              "\n",
              "    .dataframe tbody tr th {\n",
              "        vertical-align: top;\n",
              "    }\n",
              "\n",
              "    .dataframe thead th {\n",
              "        text-align: right;\n",
              "    }\n",
              "</style>\n",
              "<table border=\"1\" class=\"dataframe\">\n",
              "  <thead>\n",
              "    <tr style=\"text-align: right;\">\n",
              "      <th></th>\n",
              "      <th>0</th>\n",
              "      <th>1</th>\n",
              "      <th>2</th>\n",
              "      <th>3</th>\n",
              "      <th>4</th>\n",
              "      <th>5</th>\n",
              "      <th>6</th>\n",
              "      <th>7</th>\n",
              "      <th>8</th>\n",
              "      <th>9</th>\n",
              "      <th>...</th>\n",
              "      <th>419</th>\n",
              "      <th>420</th>\n",
              "      <th>421</th>\n",
              "      <th>422</th>\n",
              "      <th>423</th>\n",
              "      <th>424</th>\n",
              "      <th>425</th>\n",
              "      <th>426</th>\n",
              "      <th>427</th>\n",
              "      <th>428</th>\n",
              "    </tr>\n",
              "  </thead>\n",
              "  <tbody>\n",
              "    <tr>\n",
              "      <th>0</th>\n",
              "      <td>0.984952</td>\n",
              "      <td>0.380368</td>\n",
              "      <td>0.0</td>\n",
              "      <td>0.0</td>\n",
              "      <td>0.0</td>\n",
              "      <td>0.378947</td>\n",
              "      <td>0.380282</td>\n",
              "      <td>0.015206</td>\n",
              "      <td>0.0</td>\n",
              "      <td>0.0</td>\n",
              "      <td>...</td>\n",
              "      <td>0.149069</td>\n",
              "      <td>0.0</td>\n",
              "      <td>0.398622</td>\n",
              "      <td>0.000000</td>\n",
              "      <td>0.000000</td>\n",
              "      <td>0.960838</td>\n",
              "      <td>0.952097</td>\n",
              "      <td>0.0</td>\n",
              "      <td>1.000000</td>\n",
              "      <td>0.000000</td>\n",
              "    </tr>\n",
              "    <tr>\n",
              "      <th>1</th>\n",
              "      <td>0.932624</td>\n",
              "      <td>0.306748</td>\n",
              "      <td>0.0</td>\n",
              "      <td>0.0</td>\n",
              "      <td>0.0</td>\n",
              "      <td>0.305263</td>\n",
              "      <td>0.308377</td>\n",
              "      <td>0.067533</td>\n",
              "      <td>0.0</td>\n",
              "      <td>0.0</td>\n",
              "      <td>...</td>\n",
              "      <td>0.346425</td>\n",
              "      <td>0.0</td>\n",
              "      <td>0.478101</td>\n",
              "      <td>0.004763</td>\n",
              "      <td>0.004763</td>\n",
              "      <td>0.918457</td>\n",
              "      <td>0.911345</td>\n",
              "      <td>0.0</td>\n",
              "      <td>0.995236</td>\n",
              "      <td>0.043056</td>\n",
              "    </tr>\n",
              "    <tr>\n",
              "      <th>2</th>\n",
              "      <td>0.997814</td>\n",
              "      <td>0.601227</td>\n",
              "      <td>0.0</td>\n",
              "      <td>0.0</td>\n",
              "      <td>0.0</td>\n",
              "      <td>0.600000</td>\n",
              "      <td>0.600445</td>\n",
              "      <td>0.002404</td>\n",
              "      <td>0.0</td>\n",
              "      <td>0.0</td>\n",
              "      <td>...</td>\n",
              "      <td>0.157230</td>\n",
              "      <td>0.0</td>\n",
              "      <td>0.296496</td>\n",
              "      <td>0.056190</td>\n",
              "      <td>0.056190</td>\n",
              "      <td>0.932817</td>\n",
              "      <td>0.915604</td>\n",
              "      <td>0.0</td>\n",
              "      <td>0.943801</td>\n",
              "      <td>0.048539</td>\n",
              "    </tr>\n",
              "    <tr>\n",
              "      <th>3</th>\n",
              "      <td>1.000000</td>\n",
              "      <td>0.417178</td>\n",
              "      <td>0.0</td>\n",
              "      <td>0.0</td>\n",
              "      <td>0.0</td>\n",
              "      <td>0.421053</td>\n",
              "      <td>0.418829</td>\n",
              "      <td>0.000000</td>\n",
              "      <td>0.0</td>\n",
              "      <td>0.0</td>\n",
              "      <td>...</td>\n",
              "      <td>0.093109</td>\n",
              "      <td>0.0</td>\n",
              "      <td>0.221618</td>\n",
              "      <td>0.105223</td>\n",
              "      <td>0.105222</td>\n",
              "      <td>1.000000</td>\n",
              "      <td>1.000000</td>\n",
              "      <td>0.0</td>\n",
              "      <td>0.894778</td>\n",
              "      <td>0.053342</td>\n",
              "    </tr>\n",
              "    <tr>\n",
              "      <th>4</th>\n",
              "      <td>0.804221</td>\n",
              "      <td>0.251534</td>\n",
              "      <td>0.0</td>\n",
              "      <td>0.0</td>\n",
              "      <td>0.0</td>\n",
              "      <td>0.252632</td>\n",
              "      <td>0.255745</td>\n",
              "      <td>0.195958</td>\n",
              "      <td>0.0</td>\n",
              "      <td>0.0</td>\n",
              "      <td>...</td>\n",
              "      <td>0.000000</td>\n",
              "      <td>0.0</td>\n",
              "      <td>0.611372</td>\n",
              "      <td>0.059303</td>\n",
              "      <td>0.059304</td>\n",
              "      <td>0.793508</td>\n",
              "      <td>0.786278</td>\n",
              "      <td>0.0</td>\n",
              "      <td>0.940666</td>\n",
              "      <td>0.056457</td>\n",
              "    </tr>\n",
              "    <tr>\n",
              "      <th>...</th>\n",
              "      <td>...</td>\n",
              "      <td>...</td>\n",
              "      <td>...</td>\n",
              "      <td>...</td>\n",
              "      <td>...</td>\n",
              "      <td>...</td>\n",
              "      <td>...</td>\n",
              "      <td>...</td>\n",
              "      <td>...</td>\n",
              "      <td>...</td>\n",
              "      <td>...</td>\n",
              "      <td>...</td>\n",
              "      <td>...</td>\n",
              "      <td>...</td>\n",
              "      <td>...</td>\n",
              "      <td>...</td>\n",
              "      <td>...</td>\n",
              "      <td>...</td>\n",
              "      <td>...</td>\n",
              "      <td>...</td>\n",
              "      <td>...</td>\n",
              "    </tr>\n",
              "    <tr>\n",
              "      <th>1159</th>\n",
              "      <td>0.159584</td>\n",
              "      <td>0.521472</td>\n",
              "      <td>0.0</td>\n",
              "      <td>0.0</td>\n",
              "      <td>0.0</td>\n",
              "      <td>0.515789</td>\n",
              "      <td>0.521868</td>\n",
              "      <td>0.840328</td>\n",
              "      <td>0.0</td>\n",
              "      <td>0.0</td>\n",
              "      <td>...</td>\n",
              "      <td>0.894836</td>\n",
              "      <td>0.0</td>\n",
              "      <td>0.579699</td>\n",
              "      <td>0.818258</td>\n",
              "      <td>0.818258</td>\n",
              "      <td>0.165189</td>\n",
              "      <td>0.168821</td>\n",
              "      <td>0.0</td>\n",
              "      <td>0.181741</td>\n",
              "      <td>0.861361</td>\n",
              "    </tr>\n",
              "    <tr>\n",
              "      <th>1160</th>\n",
              "      <td>0.000000</td>\n",
              "      <td>0.441718</td>\n",
              "      <td>0.0</td>\n",
              "      <td>0.0</td>\n",
              "      <td>0.0</td>\n",
              "      <td>0.442105</td>\n",
              "      <td>0.444774</td>\n",
              "      <td>1.000000</td>\n",
              "      <td>0.0</td>\n",
              "      <td>0.0</td>\n",
              "      <td>...</td>\n",
              "      <td>0.673667</td>\n",
              "      <td>0.0</td>\n",
              "      <td>0.808166</td>\n",
              "      <td>0.842590</td>\n",
              "      <td>0.842589</td>\n",
              "      <td>0.000000</td>\n",
              "      <td>0.000000</td>\n",
              "      <td>0.0</td>\n",
              "      <td>0.157381</td>\n",
              "      <td>0.883249</td>\n",
              "    </tr>\n",
              "    <tr>\n",
              "      <th>1161</th>\n",
              "      <td>0.101556</td>\n",
              "      <td>0.300613</td>\n",
              "      <td>0.0</td>\n",
              "      <td>0.0</td>\n",
              "      <td>0.0</td>\n",
              "      <td>0.294737</td>\n",
              "      <td>0.302446</td>\n",
              "      <td>0.898136</td>\n",
              "      <td>0.0</td>\n",
              "      <td>0.0</td>\n",
              "      <td>...</td>\n",
              "      <td>0.899683</td>\n",
              "      <td>0.0</td>\n",
              "      <td>0.565292</td>\n",
              "      <td>0.894250</td>\n",
              "      <td>0.894250</td>\n",
              "      <td>0.177591</td>\n",
              "      <td>0.199349</td>\n",
              "      <td>0.0</td>\n",
              "      <td>0.105704</td>\n",
              "      <td>0.907703</td>\n",
              "    </tr>\n",
              "    <tr>\n",
              "      <th>1162</th>\n",
              "      <td>0.255062</td>\n",
              "      <td>0.674847</td>\n",
              "      <td>0.0</td>\n",
              "      <td>0.0</td>\n",
              "      <td>0.0</td>\n",
              "      <td>0.673684</td>\n",
              "      <td>0.679021</td>\n",
              "      <td>0.744581</td>\n",
              "      <td>0.0</td>\n",
              "      <td>0.0</td>\n",
              "      <td>...</td>\n",
              "      <td>0.834570</td>\n",
              "      <td>0.0</td>\n",
              "      <td>0.174187</td>\n",
              "      <td>0.989689</td>\n",
              "      <td>0.989689</td>\n",
              "      <td>0.288987</td>\n",
              "      <td>0.305426</td>\n",
              "      <td>0.0</td>\n",
              "      <td>0.010311</td>\n",
              "      <td>0.939165</td>\n",
              "    </tr>\n",
              "    <tr>\n",
              "      <th>1163</th>\n",
              "      <td>0.090648</td>\n",
              "      <td>0.539877</td>\n",
              "      <td>0.0</td>\n",
              "      <td>0.0</td>\n",
              "      <td>0.0</td>\n",
              "      <td>0.536842</td>\n",
              "      <td>0.541142</td>\n",
              "      <td>0.909067</td>\n",
              "      <td>0.0</td>\n",
              "      <td>0.0</td>\n",
              "      <td>...</td>\n",
              "      <td>0.944332</td>\n",
              "      <td>0.0</td>\n",
              "      <td>0.430806</td>\n",
              "      <td>1.000000</td>\n",
              "      <td>1.000000</td>\n",
              "      <td>0.130547</td>\n",
              "      <td>0.145777</td>\n",
              "      <td>0.0</td>\n",
              "      <td>0.000000</td>\n",
              "      <td>1.000000</td>\n",
              "    </tr>\n",
              "  </tbody>\n",
              "</table>\n",
              "<p>1164 rows × 429 columns</p>\n",
              "</div>\n",
              "      <button class=\"colab-df-convert\" onclick=\"convertToInteractive('df-63dadd51-ab19-4e88-9569-95157511d917')\"\n",
              "              title=\"Convert this dataframe to an interactive table.\"\n",
              "              style=\"display:none;\">\n",
              "        \n",
              "  <svg xmlns=\"http://www.w3.org/2000/svg\" height=\"24px\"viewBox=\"0 0 24 24\"\n",
              "       width=\"24px\">\n",
              "    <path d=\"M0 0h24v24H0V0z\" fill=\"none\"/>\n",
              "    <path d=\"M18.56 5.44l.94 2.06.94-2.06 2.06-.94-2.06-.94-.94-2.06-.94 2.06-2.06.94zm-11 1L8.5 8.5l.94-2.06 2.06-.94-2.06-.94L8.5 2.5l-.94 2.06-2.06.94zm10 10l.94 2.06.94-2.06 2.06-.94-2.06-.94-.94-2.06-.94 2.06-2.06.94z\"/><path d=\"M17.41 7.96l-1.37-1.37c-.4-.4-.92-.59-1.43-.59-.52 0-1.04.2-1.43.59L10.3 9.45l-7.72 7.72c-.78.78-.78 2.05 0 2.83L4 21.41c.39.39.9.59 1.41.59.51 0 1.02-.2 1.41-.59l7.78-7.78 2.81-2.81c.8-.78.8-2.07 0-2.86zM5.41 20L4 18.59l7.72-7.72 1.47 1.35L5.41 20z\"/>\n",
              "  </svg>\n",
              "      </button>\n",
              "      \n",
              "  <style>\n",
              "    .colab-df-container {\n",
              "      display:flex;\n",
              "      flex-wrap:wrap;\n",
              "      gap: 12px;\n",
              "    }\n",
              "\n",
              "    .colab-df-convert {\n",
              "      background-color: #E8F0FE;\n",
              "      border: none;\n",
              "      border-radius: 50%;\n",
              "      cursor: pointer;\n",
              "      display: none;\n",
              "      fill: #1967D2;\n",
              "      height: 32px;\n",
              "      padding: 0 0 0 0;\n",
              "      width: 32px;\n",
              "    }\n",
              "\n",
              "    .colab-df-convert:hover {\n",
              "      background-color: #E2EBFA;\n",
              "      box-shadow: 0px 1px 2px rgba(60, 64, 67, 0.3), 0px 1px 3px 1px rgba(60, 64, 67, 0.15);\n",
              "      fill: #174EA6;\n",
              "    }\n",
              "\n",
              "    [theme=dark] .colab-df-convert {\n",
              "      background-color: #3B4455;\n",
              "      fill: #D2E3FC;\n",
              "    }\n",
              "\n",
              "    [theme=dark] .colab-df-convert:hover {\n",
              "      background-color: #434B5C;\n",
              "      box-shadow: 0px 1px 3px 1px rgba(0, 0, 0, 0.15);\n",
              "      filter: drop-shadow(0px 1px 2px rgba(0, 0, 0, 0.3));\n",
              "      fill: #FFFFFF;\n",
              "    }\n",
              "  </style>\n",
              "\n",
              "      <script>\n",
              "        const buttonEl =\n",
              "          document.querySelector('#df-63dadd51-ab19-4e88-9569-95157511d917 button.colab-df-convert');\n",
              "        buttonEl.style.display =\n",
              "          google.colab.kernel.accessAllowed ? 'block' : 'none';\n",
              "\n",
              "        async function convertToInteractive(key) {\n",
              "          const element = document.querySelector('#df-63dadd51-ab19-4e88-9569-95157511d917');\n",
              "          const dataTable =\n",
              "            await google.colab.kernel.invokeFunction('convertToInteractive',\n",
              "                                                     [key], {});\n",
              "          if (!dataTable) return;\n",
              "\n",
              "          const docLinkHtml = 'Like what you see? Visit the ' +\n",
              "            '<a target=\"_blank\" href=https://colab.research.google.com/notebooks/data_table.ipynb>data table notebook</a>'\n",
              "            + ' to learn more about interactive tables.';\n",
              "          element.innerHTML = '';\n",
              "          dataTable['output_type'] = 'display_data';\n",
              "          await google.colab.output.renderOutput(dataTable, element);\n",
              "          const docLink = document.createElement('div');\n",
              "          docLink.innerHTML = docLinkHtml;\n",
              "          element.appendChild(docLink);\n",
              "        }\n",
              "      </script>\n",
              "    </div>\n",
              "  </div>\n",
              "  "
            ]
          },
          "metadata": {},
          "execution_count": 105
        }
      ],
      "source": [
        "train"
      ]
    },
    {
      "cell_type": "markdown",
      "metadata": {
        "id": "YuLi492baBtr"
      },
      "source": [
        "# X and y"
      ]
    },
    {
      "cell_type": "code",
      "execution_count": null,
      "metadata": {
        "id": "2E51TDQWaA8P"
      },
      "outputs": [],
      "source": [
        "y_idx = 428"
      ]
    },
    {
      "cell_type": "code",
      "execution_count": null,
      "metadata": {
        "id": "f9BQ9SCi8E2r"
      },
      "outputs": [],
      "source": [
        "def split(ds, idx):\n",
        "  return ds.drop(idx, axis=1).values, ds[idx].values"
      ]
    },
    {
      "cell_type": "code",
      "execution_count": null,
      "metadata": {
        "id": "VKzwEJ4GZqu7"
      },
      "outputs": [],
      "source": [
        "X_train, y_train = split(train, y_idx)\n",
        "X_test, y_test = split(test, y_idx)"
      ]
    },
    {
      "cell_type": "markdown",
      "metadata": {
        "id": "PkF5sB0iJMye"
      },
      "source": [
        "# Regression"
      ]
    },
    {
      "cell_type": "code",
      "execution_count": null,
      "metadata": {
        "id": "cXziM_z_8VAo"
      },
      "outputs": [],
      "source": [
        "class Regression:\n",
        "  def fit(self, X, y):\n",
        "    pass\n",
        "\n",
        "  def predict(self, X) -> np.ndarray:\n",
        "    pass\n",
        "\n",
        "  # свободный член\n",
        "  def plus_one(self, X) -> np.ndarray:\n",
        "    return np.hstack((X, np.ones((X.shape[0], 1))))\n",
        "\n",
        "class LinearRegression(Regression):\n",
        "  def __init__(self, alpha=0.0):\n",
        "    self.alpha = alpha\n",
        "    self.w = None\n",
        "    \n",
        "  def predict(self, X) -> np.ndarray:\n",
        "    return np.matmul(self.plus_one(X), self.w)"
      ]
    },
    {
      "cell_type": "markdown",
      "metadata": {
        "id": "t9dbaKe8JyYs"
      },
      "source": [
        "# MSM with Ridge"
      ]
    },
    {
      "cell_type": "code",
      "execution_count": null,
      "metadata": {
        "id": "jtyLhKnDEmX9"
      },
      "outputs": [],
      "source": [
        "class MinimumSquareMethod(LinearRegression):\n",
        "  def __init__(self, alpha=0.1):\n",
        "    super().__init__(alpha)\n",
        "    \n",
        "  def fit(self, X, y) -> np.ndarray:\n",
        "    X = self.plus_one(X)\n",
        "    _, size = X.shape\n",
        "    self.w = np.matmul(np.matmul(\n",
        "                                  np.linalg.inv(np.matmul(np.transpose(X), X) + self.alpha * np.identity(size)),\n",
        "                                  np.transpose(X)\n",
        "                                ), y)"
      ]
    },
    {
      "cell_type": "markdown",
      "metadata": {
        "id": "EZ_HJo-eLOMj"
      },
      "source": [
        "# Gradient"
      ]
    },
    {
      "cell_type": "code",
      "execution_count": null,
      "metadata": {
        "id": "x1FAO2E7KppN"
      },
      "outputs": [],
      "source": [
        "def mse(y, y_hat):\n",
        "  return np.mean((y - y_hat) ** 2)    \n",
        "\n",
        "def dmse(x, y, y_hat): # mean(х^T * (y - y_hat))\n",
        "  x = x[0]\n",
        "  return [(y - y_hat) * x[i] for i in range(len(x))]\n",
        "\n",
        "def smape(y, y_hat):\n",
        "  return 2 * np.mean(np.abs(y_hat - y)) / np.mean(np.abs(y) + np.abs(y_hat))  # |y - f(x)| / (|f(x)| + |y|)\n",
        "\n",
        "def signum(x) -> float:\n",
        "  if x > 0:\n",
        "    return 1.0\n",
        "  elif x < 0:\n",
        "    return -1.0\n",
        "  else:\n",
        "    return 0.0\n",
        "\n",
        "def dsmape(x, y, y_hat):\n",
        "  x = x[0]\n",
        "  res = [0.0 for _ in x]\n",
        "  l = signum(y - y_hat) * (abs(y) + abs(y_hat))\n",
        "  r = signum(y) * abs(y - y_hat)\n",
        "  b = (abs(y) + abs(y_hat)) ** 2 \n",
        "  common = (l - r) / b\n",
        "  for i in range(len(x)):\n",
        "    res[i] = x[i] * common\n",
        "  return res\n",
        "  \n",
        "def nrmse(y, y_hat):\n",
        "  return np.mean(np.abs(y - y_hat) / np.std(y_hat))"
      ]
    },
    {
      "cell_type": "markdown",
      "metadata": {
        "id": "GCKYFNeEOjwg"
      },
      "source": [
        "## Regularization"
      ]
    },
    {
      "cell_type": "code",
      "execution_count": null,
      "metadata": {
        "id": "AGHpffqmKoZO"
      },
      "outputs": [],
      "source": [
        "def l2(w):\n",
        "    return np.linalg.norm(w, ord=2)"
      ]
    },
    {
      "cell_type": "code",
      "execution_count": null,
      "metadata": {
        "id": "Bak-aEdDOltt"
      },
      "outputs": [],
      "source": [
        "class Gradient(LinearRegression):\n",
        "  def __init__(self, err=mse, derr=dmse, alpha=0.1, iterations=2000, beta=0.5, clip=1000):\n",
        "    super().__init__(alpha=alpha)\n",
        "    self.err = err\n",
        "    self.derr = derr\n",
        "    self.iterations = iterations\n",
        "    self.beta = beta\n",
        "    self.clip = clip\n",
        "        \n",
        "  def get_random_elem(self, X, y):\n",
        "    idx = np.random.randint(0, X.shape[0])\n",
        "    return (np.array([X[idx]]), np.array([y[idx]]))\n",
        "        \n",
        "  def gradient_eval(self, w, X, y):\n",
        "    return np.squeeze(self.derr(self.plus_one(X), np.dot(self.plus_one(X), w), y)) + self.alpha * 2 * w\n",
        "    \n",
        "  def fit(self, X, y):\n",
        "    n, size = X.shape\n",
        "    self.w = np.random.uniform(low=-1/n, high=1/n, size = size + 1)\n",
        "    history = []\n",
        "    for i in range(self.iterations):\n",
        "      X_sample, y_sample = self.get_random_elem(X, y)\n",
        "      grad = np.clip(self.gradient_eval(self.w, X_sample, y_sample), -self.clip, self.clip)\n",
        "      old_err = self.err(np.matmul(self.plus_one(X), self.w), y)\n",
        "      self.w = self.w - (self.beta) / (i + 1) * grad # optimization step\n",
        "      new_err = self.err(np.matmul(self.plus_one(X), self.w), y)\n",
        "      history.append((1 - self.beta) * old_err + self.beta * new_err) # эксп скользящее среднее\n",
        "    return history"
      ]
    },
    {
      "cell_type": "markdown",
      "source": [
        "# Parameters"
      ],
      "metadata": {
        "id": "0ogFp0si9QXa"
      }
    },
    {
      "cell_type": "code",
      "source": [
        "alphas = np.linspace(0.01, 1., num=3)\n",
        "derrs = (dmse, dsmape)\n",
        "iters = (200, 400, 2000)\n",
        "clips = (1000, 100000, 20000)\n",
        "betas = np.linspace(0.01, 1., num=3)\n",
        "\n",
        "def tune(X_train, y_train, X_test, y_test, alphas, derrs, iters, betas, clips):\n",
        "  best_params = {}\n",
        "  best_err = float(\"inf\")\n",
        "  for alpha in alphas:\n",
        "    for derr in derrs:\n",
        "      for iter in iters:\n",
        "        for clip in clips:\n",
        "          for beta in betas:\n",
        "            cur_algo = Gradient(err=mse, derr=derr, iterations=iter, alpha=alpha, beta=beta, clip=clip)\n",
        "            cur_algo.fit(X_train, y_train)\n",
        "            p = cur_algo.predict(X_test)\n",
        "            cur_err = nrmse(p, y_test)\n",
        "            if cur_err < best_err:\n",
        "              best_params['iters'] = iter\n",
        "              best_params['alpha'] = alpha\n",
        "              best_params['clip'] = clip\n",
        "              best_params['beta'] = beta\n",
        "              best_err = cur_err\n",
        "  return best_params, best_err"
      ],
      "metadata": {
        "id": "9Yw3E4NU9M9O"
      },
      "execution_count": null,
      "outputs": []
    },
    {
      "cell_type": "code",
      "source": [
        "best_params, best_err = tune(X_train, y_train, X_test, y_test, alphas, derrs, iters, betas, clips)"
      ],
      "metadata": {
        "id": "5ZzSbM9W9Shi"
      },
      "execution_count": null,
      "outputs": []
    },
    {
      "cell_type": "code",
      "source": [
        "best_params\n"
      ],
      "metadata": {
        "id": "rMZGLASS9XCV",
        "colab": {
          "base_uri": "https://localhost:8080/"
        },
        "outputId": "5caead50-6963-450a-c9bd-c8d8b05afece"
      },
      "execution_count": null,
      "outputs": [
        {
          "output_type": "execute_result",
          "data": {
            "text/plain": [
              "{'alpha': 1.0, 'beta': 0.505, 'clip': 20000, 'iters': 2000}"
            ]
          },
          "metadata": {},
          "execution_count": 117
        }
      ]
    },
    {
      "cell_type": "code",
      "source": [
        "best_err"
      ],
      "metadata": {
        "id": "SKy0bOoO9hoP",
        "colab": {
          "base_uri": "https://localhost:8080/"
        },
        "outputId": "0613e009-143a-4c1a-b559-39c2b62f90b0"
      },
      "execution_count": null,
      "outputs": [
        {
          "output_type": "execute_result",
          "data": {
            "text/plain": [
              "0.02619866327417869"
            ]
          },
          "metadata": {},
          "execution_count": 118
        }
      ]
    },
    {
      "cell_type": "code",
      "execution_count": null,
      "metadata": {
        "colab": {
          "base_uri": "https://localhost:8080/",
          "height": 299
        },
        "id": "ZU8SCcgGgsvb",
        "outputId": "6b2350d7-2969-41e6-cb8a-283ddaf20390"
      },
      "outputs": [
        {
          "output_type": "execute_result",
          "data": {
            "text/plain": [
              "Text(0.5, 1.0, 'MSE')"
            ]
          },
          "metadata": {},
          "execution_count": 153
        },
        {
          "output_type": "display_data",
          "data": {
            "text/plain": [
              "<Figure size 432x288 with 1 Axes>"
            ],
            "image/png": "[encoded data removed]"
          },
          "metadata": {
            "needs_background": "light"
          }
        }
      ],
      "source": [
        "import matplotlib.pyplot as plt\n",
        "mse_gd = Gradient(alpha=best_params['alpha'], iterations=best_params['iters'], beta=best_params['beta'], clip=best_params['clip'])\n",
        "\n",
        "history = mse_gd.fit(X_train, y_train)\n",
        "plt.plot(list(range(2000)), history)\n",
        "plt.title('MSE')"
      ]
    },
    {
      "cell_type": "code",
      "execution_count": null,
      "metadata": {
        "id": "UZP6tOmCoBig",
        "colab": {
          "base_uri": "https://localhost:8080/",
          "height": 299
        },
        "outputId": "94ce5809-d86a-4120-a174-fe89232434a4"
      },
      "outputs": [
        {
          "output_type": "execute_result",
          "data": {
            "text/plain": [
              "Text(0.5, 1.0, 'SMAPE')"
            ]
          },
          "metadata": {},
          "execution_count": 151
        },
        {
          "output_type": "display_data",
          "data": {
            "text/plain": [
              "<Figure size 432x288 with 1 Axes>"
            ],
            "image/png": "[encoded data removed]"
          },
          "metadata": {
            "needs_background": "light"
          }
        }
      ],
      "source": [
        "import matplotlib.pyplot as plt\n",
        "smape_gd = Gradient(err=smape, derr=dsmape, alpha=best_params['alpha'], iterations=best_params['iters'], beta=best_params['beta'], clip=best_params['clip'])\n",
        "history = smape_gd.fit(X_train, y_train)\n",
        "plt.plot(list(range(2000)), history)\n",
        "plt.title('SMAPE')"
      ]
    },
    {
      "cell_type": "markdown",
      "source": [
        "# MSM"
      ],
      "metadata": {
        "id": "on-H4damZoJn"
      }
    },
    {
      "cell_type": "code",
      "execution_count": null,
      "metadata": {
        "id": "6F6fs_H4pjk4"
      },
      "outputs": [],
      "source": [
        "def test_msm(X_train, y_train, X_test, y_test, alphas, err):\n",
        "  errs = []\n",
        "  for alpha in alphas:\n",
        "    msm = MinimumSquareMethod(alpha)\n",
        "    msm.fit(X_train, y_train)\n",
        "    preds = msm.predict(X_test)\n",
        "    errs.append(err(preds, y_test))\n",
        "  return errs"
      ]
    },
    {
      "cell_type": "code",
      "source": [
        "alphas = np.linspace(1e-20, 1.0, num=10)\n",
        "errs = test_msm(X_train, y_train, X_test, y_test, alphas, mse)\n",
        "plt.plot(alphas, errs)"
      ],
      "metadata": {
        "colab": {
          "base_uri": "https://localhost:8080/",
          "height": 283
        },
        "id": "kGWvZdu_ZpB-",
        "outputId": "af299d38-bea7-469a-e378-5befe1b204f8"
      },
      "execution_count": null,
      "outputs": [
        {
          "output_type": "execute_result",
          "data": {
            "text/plain": [
              "[<matplotlib.lines.Line2D at 0x7f5d5097fbd0>]"
            ]
          },
          "metadata": {},
          "execution_count": 95
        },
        {
          "output_type": "display_data",
          "data": {
            "text/plain": [
              "<Figure size 432x288 with 1 Axes>"
            ],
            "image/png": "[encoded data removed]"
          },
          "metadata": {
            "needs_background": "light"
          }
        }
      ]
    },
    {
      "cell_type": "code",
      "source": [
        "alphas = np.linspace(1e-20, 1.0, num=10)\n",
        "errs = test_msm(X_train, y_train, X_test, y_test, alphas, smape)\n",
        "plt.plot(alphas, errs)"
      ],
      "metadata": {
        "colab": {
          "base_uri": "https://localhost:8080/",
          "height": 283
        },
        "id": "fXh9Lx8XZsOC",
        "outputId": "92fa207c-a9fb-4467-f932-7ef4cf5cb4fc"
      },
      "execution_count": null,
      "outputs": [
        {
          "output_type": "execute_result",
          "data": {
            "text/plain": [
              "[<matplotlib.lines.Line2D at 0x7f5d508e0cd0>]"
            ]
          },
          "metadata": {},
          "execution_count": 96
        },
        {
          "output_type": "display_data",
          "data": {
            "text/plain": [
              "<Figure size 432x288 with 1 Axes>"
            ],
            "image/png": "[encoded data removed]"
          },
          "metadata": {
            "needs_background": "light"
          }
        }
      ]
    },
    {
      "cell_type": "markdown",
      "source": [
        "# NRMSE and SMAPE tests"
      ],
      "metadata": {
        "id": "Jx-z_O-sakJw"
      }
    },
    {
      "cell_type": "code",
      "source": [
        "msm = MinimumSquareMethod(0.9)\n",
        "msm.fit(X_train, y_train)\n",
        "msm_p = msm.predict(X_test)\n",
        "print(f'MSM NRMSE: {nrmse(msm_p, y_test)}, MSM SMAPE: {smape(msm_p, y_test)}')"
      ],
      "metadata": {
        "id": "UQ3M1hFiaBI1",
        "colab": {
          "base_uri": "https://localhost:8080/"
        },
        "outputId": "08777e2a-b072-4184-fc76-a857a6fb7b25"
      },
      "execution_count": null,
      "outputs": [
        {
          "output_type": "stream",
          "name": "stdout",
          "text": [
            "MSM NRMSE: 0.0003863308465538343, MSM SMAPE: 0.00010289318853607392\n"
          ]
        }
      ]
    },
    {
      "cell_type": "code",
      "source": [
        "smape_gd = Gradient(err=smape, derr=best_params['derr'], alpha=best_params['alpha'], iterations=best_params['iters'], beta=best_params['beta'], clip=best_params['clip'])\n",
        "smape_gd.fit(X_train, y_train)\n",
        "smape_p = smape_gd.predict(X_test)\n",
        "print(f'SMAPE NRMSE : {nrmse(smape_p, y_test)}, SMAPE SMAPE: {smape(smape_p, y_test)}')"
      ],
      "metadata": {
        "id": "ztZpPu56am7Q",
        "colab": {
          "base_uri": "https://localhost:8080/"
        },
        "outputId": "1a5e49b6-b405-4677-9de4-d877b36c280d"
      },
      "execution_count": null,
      "outputs": [
        {
          "output_type": "stream",
          "name": "stdout",
          "text": [
            "SMAPE NRMSE : 0.04211850408761264, SMAPE SMAPE: 0.011194199432094855\n"
          ]
        }
      ]
    },
    {
      "cell_type": "code",
      "source": [
        "mse_gd = Gradient(alpha=best_params['alpha'], iterations=best_params['iters'], beta=best_params['beta'], clip=best_params['clip'])\n",
        "mse_gd.fit(X_train, y_train)\n",
        "mse_p = mse_gd.predict(X_test)\n",
        "print(f'MSE NRMSE : {nrmse(mse_p, y_test)}, MSE SMAPE: {smape(mse_p, y_test)}')"
      ],
      "metadata": {
        "id": "AaQCEGcNawzx",
        "colab": {
          "base_uri": "https://localhost:8080/"
        },
        "outputId": "b90e06f7-d6ef-4c8e-902c-8d1908ccdde0"
      },
      "execution_count": null,
      "outputs": [
        {
          "output_type": "stream",
          "name": "stdout",
          "text": [
            "MSE NRMSE : 0.629349865852495, MSE SMAPE: 0.16687019038484568\n"
          ]
        }
      ]
    },
    {
      "cell_type": "code",
      "source": [
        ""
      ],
      "metadata": {
        "id": "qtMJq_dvvWr_"
      },
      "execution_count": null,
      "outputs": []
    }
  ],
  "metadata": {
    "colab": {
      "collapsed_sections": [],
      "name": "Lab2-ml.ipynb",
      "provenance": []
    },
    "kernelspec": {
      "display_name": "Python 3",
      "name": "python3"
    },
    "language_info": {
      "name": "python"
    }
  },
  "nbformat": 4,
  "nbformat_minor": 0
}