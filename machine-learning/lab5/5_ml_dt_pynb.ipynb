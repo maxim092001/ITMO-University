{
  "nbformat": 4,
  "nbformat_minor": 0,
  "metadata": {
    "colab": {
      "provenance": []
    },
    "kernelspec": {
      "name": "python3",
      "display_name": "Python 3"
    },
    "language_info": {
      "name": "python"
    }
  },
  "cells": [
    {
      "cell_type": "code",
      "source": [
        "from google.colab import drive\n",
        "drive.mount('/content/drive')"
      ],
      "metadata": {
        "colab": {
          "base_uri": "https://localhost:8080/"
        },
        "id": "kQbbKvbqP17P",
        "outputId": "d95af9c1-1214-48a9-be3b-968468a5484d"
      },
      "execution_count": null,
      "outputs": [
        {
          "output_type": "stream",
          "name": "stdout",
          "text": [
            "Mounted at /content/drive\n"
          ]
        }
      ]
    },
    {
      "cell_type": "code",
      "source": [
        "import pandas as pd\n",
        "\n",
        "geyser = pd.read_csv('/content/drive/MyDrive/data/geyser.csv')\n",
        "chip = pd.read_csv('/content/drive/MyDrive/data/chips.csv')"
      ],
      "metadata": {
        "id": "lEVUfYPJV1hu"
      },
      "execution_count": null,
      "outputs": []
    },
    {
      "cell_type": "markdown",
      "source": [
        "# Preprocess"
      ],
      "metadata": {
        "id": "Ei4XQ94LTcHi"
      }
    },
    {
      "cell_type": "code",
      "source": [
        "def sign(df):\n",
        "  ds['class'].loc[ds['class'] == 'N'] = -1\n",
        "  ds['class'].loc[ds['class'] == 'P'] = 1\n",
        "def to_x_y(ds):\n",
        "  vals = ds.values\n",
        "  vals = vals[vals[:, 1].argsort()]\n",
        "  vals = vals[vals[:, 0].argsort()]\n",
        "  \n",
        "  ds = pd.DataFrame(vals)\n",
        "  return ds.drop(2, axis=1).values, ds[2].values.tolist()\n"
      ],
      "metadata": {
        "id": "rkvbulq7l4a7"
      },
      "execution_count": null,
      "outputs": []
    },
    {
      "cell_type": "code",
      "source": [
        "sign(chip)\n",
        "chip.head()"
      ],
      "metadata": {
        "id": "how3ZA5ATdoT",
        "colab": {
          "base_uri": "https://localhost:8080/",
          "height": 206
        },
        "outputId": "089c185e-a656-4390-dfef-c627ba049321"
      },
      "execution_count": null,
      "outputs": [
        {
          "output_type": "execute_result",
          "data": {
            "text/plain": [
              "          x        y  class\n",
              "0  0.051267  0.69956      1\n",
              "1 -0.092742  0.68494      1\n",
              "2 -0.213710  0.69225      1\n",
              "3 -0.375000  0.50219      1\n",
              "4 -0.513250  0.46564      1"
            ],
            "text/html": [
              "\n",
              "  <div id=\"df-5c042c78-5871-4143-9106-a96401a5fff8\">\n",
              "    <div class=\"colab-df-container\">\n",
              "      <div>\n",
              "<style scoped>\n",
              "    .dataframe tbody tr th:only-of-type {\n",
              "        vertical-align: middle;\n",
              "    }\n",
              "\n",
              "    .dataframe tbody tr th {\n",
              "        vertical-align: top;\n",
              "    }\n",
              "\n",
              "    .dataframe thead th {\n",
              "        text-align: right;\n",
              "    }\n",
              "</style>\n",
              "<table border=\"1\" class=\"dataframe\">\n",
              "  <thead>\n",
              "    <tr style=\"text-align: right;\">\n",
              "      <th></th>\n",
              "      <th>x</th>\n",
              "      <th>y</th>\n",
              "      <th>class</th>\n",
              "    </tr>\n",
              "  </thead>\n",
              "  <tbody>\n",
              "    <tr>\n",
              "      <th>0</th>\n",
              "      <td>0.051267</td>\n",
              "      <td>0.69956</td>\n",
              "      <td>1</td>\n",
              "    </tr>\n",
              "    <tr>\n",
              "      <th>1</th>\n",
              "      <td>-0.092742</td>\n",
              "      <td>0.68494</td>\n",
              "      <td>1</td>\n",
              "    </tr>\n",
              "    <tr>\n",
              "      <th>2</th>\n",
              "      <td>-0.213710</td>\n",
              "      <td>0.69225</td>\n",
              "      <td>1</td>\n",
              "    </tr>\n",
              "    <tr>\n",
              "      <th>3</th>\n",
              "      <td>-0.375000</td>\n",
              "      <td>0.50219</td>\n",
              "      <td>1</td>\n",
              "    </tr>\n",
              "    <tr>\n",
              "      <th>4</th>\n",
              "      <td>-0.513250</td>\n",
              "      <td>0.46564</td>\n",
              "      <td>1</td>\n",
              "    </tr>\n",
              "  </tbody>\n",
              "</table>\n",
              "</div>\n",
              "      <button class=\"colab-df-convert\" onclick=\"convertToInteractive('df-5c042c78-5871-4143-9106-a96401a5fff8')\"\n",
              "              title=\"Convert this dataframe to an interactive table.\"\n",
              "              style=\"display:none;\">\n",
              "        \n",
              "  <svg xmlns=\"http://www.w3.org/2000/svg\" height=\"24px\"viewBox=\"0 0 24 24\"\n",
              "       width=\"24px\">\n",
              "    <path d=\"M0 0h24v24H0V0z\" fill=\"none\"/>\n",
              "    <path d=\"M18.56 5.44l.94 2.06.94-2.06 2.06-.94-2.06-.94-.94-2.06-.94 2.06-2.06.94zm-11 1L8.5 8.5l.94-2.06 2.06-.94-2.06-.94L8.5 2.5l-.94 2.06-2.06.94zm10 10l.94 2.06.94-2.06 2.06-.94-2.06-.94-.94-2.06-.94 2.06-2.06.94z\"/><path d=\"M17.41 7.96l-1.37-1.37c-.4-.4-.92-.59-1.43-.59-.52 0-1.04.2-1.43.59L10.3 9.45l-7.72 7.72c-.78.78-.78 2.05 0 2.83L4 21.41c.39.39.9.59 1.41.59.51 0 1.02-.2 1.41-.59l7.78-7.78 2.81-2.81c.8-.78.8-2.07 0-2.86zM5.41 20L4 18.59l7.72-7.72 1.47 1.35L5.41 20z\"/>\n",
              "  </svg>\n",
              "      </button>\n",
              "      \n",
              "  <style>\n",
              "    .colab-df-container {\n",
              "      display:flex;\n",
              "      flex-wrap:wrap;\n",
              "      gap: 12px;\n",
              "    }\n",
              "\n",
              "    .colab-df-convert {\n",
              "      background-color: #E8F0FE;\n",
              "      border: none;\n",
              "      border-radius: 50%;\n",
              "      cursor: pointer;\n",
              "      display: none;\n",
              "      fill: #1967D2;\n",
              "      height: 32px;\n",
              "      padding: 0 0 0 0;\n",
              "      width: 32px;\n",
              "    }\n",
              "\n",
              "    .colab-df-convert:hover {\n",
              "      background-color: #E2EBFA;\n",
              "      box-shadow: 0px 1px 2px rgba(60, 64, 67, 0.3), 0px 1px 3px 1px rgba(60, 64, 67, 0.15);\n",
              "      fill: #174EA6;\n",
              "    }\n",
              "\n",
              "    [theme=dark] .colab-df-convert {\n",
              "      background-color: #3B4455;\n",
              "      fill: #D2E3FC;\n",
              "    }\n",
              "\n",
              "    [theme=dark] .colab-df-convert:hover {\n",
              "      background-color: #434B5C;\n",
              "      box-shadow: 0px 1px 3px 1px rgba(0, 0, 0, 0.15);\n",
              "      filter: drop-shadow(0px 1px 2px rgba(0, 0, 0, 0.3));\n",
              "      fill: #FFFFFF;\n",
              "    }\n",
              "  </style>\n",
              "\n",
              "      <script>\n",
              "        const buttonEl =\n",
              "          document.querySelector('#df-5c042c78-5871-4143-9106-a96401a5fff8 button.colab-df-convert');\n",
              "        buttonEl.style.display =\n",
              "          google.colab.kernel.accessAllowed ? 'block' : 'none';\n",
              "\n",
              "        async function convertToInteractive(key) {\n",
              "          const element = document.querySelector('#df-5c042c78-5871-4143-9106-a96401a5fff8');\n",
              "          const dataTable =\n",
              "            await google.colab.kernel.invokeFunction('convertToInteractive',\n",
              "                                                     [key], {});\n",
              "          if (!dataTable) return;\n",
              "\n",
              "          const docLinkHtml = 'Like what you see? Visit the ' +\n",
              "            '<a target=\"_blank\" href=https://colab.research.google.com/notebooks/data_table.ipynb>data table notebook</a>'\n",
              "            + ' to learn more about interactive tables.';\n",
              "          element.innerHTML = '';\n",
              "          dataTable['output_type'] = 'display_data';\n",
              "          await google.colab.output.renderOutput(dataTable, element);\n",
              "          const docLink = document.createElement('div');\n",
              "          docLink.innerHTML = docLinkHtml;\n",
              "          element.appendChild(docLink);\n",
              "        }\n",
              "      </script>\n",
              "    </div>\n",
              "  </div>\n",
              "  "
            ]
          },
          "metadata": {},
          "execution_count": 5
        }
      ]
    },
    {
      "cell_type": "code",
      "source": [
        "sign(geyser)\n",
        "geyser.head()"
      ],
      "metadata": {
        "id": "gzSpCJ4eTZjs",
        "colab": {
          "base_uri": "https://localhost:8080/",
          "height": 206
        },
        "outputId": "99575ca1-3580-4d75-ddb5-96f16c3c9500"
      },
      "execution_count": null,
      "outputs": [
        {
          "output_type": "execute_result",
          "data": {
            "text/plain": [
              "   x    y  class\n",
              "0  1  4.4     -1\n",
              "1  1  3.9     -1\n",
              "2  1  4.0      1\n",
              "3  1  4.0     -1\n",
              "4  1  3.5     -1"
            ],
            "text/html": [
              "\n",
              "  <div id=\"df-24d57cd7-3c72-4690-8232-41054e3a6233\">\n",
              "    <div class=\"colab-df-container\">\n",
              "      <div>\n",
              "<style scoped>\n",
              "    .dataframe tbody tr th:only-of-type {\n",
              "        vertical-align: middle;\n",
              "    }\n",
              "\n",
              "    .dataframe tbody tr th {\n",
              "        vertical-align: top;\n",
              "    }\n",
              "\n",
              "    .dataframe thead th {\n",
              "        text-align: right;\n",
              "    }\n",
              "</style>\n",
              "<table border=\"1\" class=\"dataframe\">\n",
              "  <thead>\n",
              "    <tr style=\"text-align: right;\">\n",
              "      <th></th>\n",
              "      <th>x</th>\n",
              "      <th>y</th>\n",
              "      <th>class</th>\n",
              "    </tr>\n",
              "  </thead>\n",
              "  <tbody>\n",
              "    <tr>\n",
              "      <th>0</th>\n",
              "      <td>1</td>\n",
              "      <td>4.4</td>\n",
              "      <td>-1</td>\n",
              "    </tr>\n",
              "    <tr>\n",
              "      <th>1</th>\n",
              "      <td>1</td>\n",
              "      <td>3.9</td>\n",
              "      <td>-1</td>\n",
              "    </tr>\n",
              "    <tr>\n",
              "      <th>2</th>\n",
              "      <td>1</td>\n",
              "      <td>4.0</td>\n",
              "      <td>1</td>\n",
              "    </tr>\n",
              "    <tr>\n",
              "      <th>3</th>\n",
              "      <td>1</td>\n",
              "      <td>4.0</td>\n",
              "      <td>-1</td>\n",
              "    </tr>\n",
              "    <tr>\n",
              "      <th>4</th>\n",
              "      <td>1</td>\n",
              "      <td>3.5</td>\n",
              "      <td>-1</td>\n",
              "    </tr>\n",
              "  </tbody>\n",
              "</table>\n",
              "</div>\n",
              "      <button class=\"colab-df-convert\" onclick=\"convertToInteractive('df-24d57cd7-3c72-4690-8232-41054e3a6233')\"\n",
              "              title=\"Convert this dataframe to an interactive table.\"\n",
              "              style=\"display:none;\">\n",
              "        \n",
              "  <svg xmlns=\"http://www.w3.org/2000/svg\" height=\"24px\"viewBox=\"0 0 24 24\"\n",
              "       width=\"24px\">\n",
              "    <path d=\"M0 0h24v24H0V0z\" fill=\"none\"/>\n",
              "    <path d=\"M18.56 5.44l.94 2.06.94-2.06 2.06-.94-2.06-.94-.94-2.06-.94 2.06-2.06.94zm-11 1L8.5 8.5l.94-2.06 2.06-.94-2.06-.94L8.5 2.5l-.94 2.06-2.06.94zm10 10l.94 2.06.94-2.06 2.06-.94-2.06-.94-.94-2.06-.94 2.06-2.06.94z\"/><path d=\"M17.41 7.96l-1.37-1.37c-.4-.4-.92-.59-1.43-.59-.52 0-1.04.2-1.43.59L10.3 9.45l-7.72 7.72c-.78.78-.78 2.05 0 2.83L4 21.41c.39.39.9.59 1.41.59.51 0 1.02-.2 1.41-.59l7.78-7.78 2.81-2.81c.8-.78.8-2.07 0-2.86zM5.41 20L4 18.59l7.72-7.72 1.47 1.35L5.41 20z\"/>\n",
              "  </svg>\n",
              "      </button>\n",
              "      \n",
              "  <style>\n",
              "    .colab-df-container {\n",
              "      display:flex;\n",
              "      flex-wrap:wrap;\n",
              "      gap: 12px;\n",
              "    }\n",
              "\n",
              "    .colab-df-convert {\n",
              "      background-color: #E8F0FE;\n",
              "      border: none;\n",
              "      border-radius: 50%;\n",
              "      cursor: pointer;\n",
              "      display: none;\n",
              "      fill: #1967D2;\n",
              "      height: 32px;\n",
              "      padding: 0 0 0 0;\n",
              "      width: 32px;\n",
              "    }\n",
              "\n",
              "    .colab-df-convert:hover {\n",
              "      background-color: #E2EBFA;\n",
              "      box-shadow: 0px 1px 2px rgba(60, 64, 67, 0.3), 0px 1px 3px 1px rgba(60, 64, 67, 0.15);\n",
              "      fill: #174EA6;\n",
              "    }\n",
              "\n",
              "    [theme=dark] .colab-df-convert {\n",
              "      background-color: #3B4455;\n",
              "      fill: #D2E3FC;\n",
              "    }\n",
              "\n",
              "    [theme=dark] .colab-df-convert:hover {\n",
              "      background-color: #434B5C;\n",
              "      box-shadow: 0px 1px 3px 1px rgba(0, 0, 0, 0.15);\n",
              "      filter: drop-shadow(0px 1px 2px rgba(0, 0, 0, 0.3));\n",
              "      fill: #FFFFFF;\n",
              "    }\n",
              "  </style>\n",
              "\n",
              "      <script>\n",
              "        const buttonEl =\n",
              "          document.querySelector('#df-24d57cd7-3c72-4690-8232-41054e3a6233 button.colab-df-convert');\n",
              "        buttonEl.style.display =\n",
              "          google.colab.kernel.accessAllowed ? 'block' : 'none';\n",
              "\n",
              "        async function convertToInteractive(key) {\n",
              "          const element = document.querySelector('#df-24d57cd7-3c72-4690-8232-41054e3a6233');\n",
              "          const dataTable =\n",
              "            await google.colab.kernel.invokeFunction('convertToInteractive',\n",
              "                                                     [key], {});\n",
              "          if (!dataTable) return;\n",
              "\n",
              "          const docLinkHtml = 'Like what you see? Visit the ' +\n",
              "            '<a target=\"_blank\" href=https://colab.research.google.com/notebooks/data_table.ipynb>data table notebook</a>'\n",
              "            + ' to learn more about interactive tables.';\n",
              "          element.innerHTML = '';\n",
              "          dataTable['output_type'] = 'display_data';\n",
              "          await google.colab.output.renderOutput(dataTable, element);\n",
              "          const docLink = document.createElement('div');\n",
              "          docLink.innerHTML = docLinkHtml;\n",
              "          element.appendChild(docLink);\n",
              "        }\n",
              "      </script>\n",
              "    </div>\n",
              "  </div>\n",
              "  "
            ]
          },
          "metadata": {},
          "execution_count": 6
        }
      ]
    },
    {
      "cell_type": "markdown",
      "source": [
        "# Criterions"
      ],
      "metadata": {
        "id": "kxK5g93MWS5l"
      }
    },
    {
      "cell_type": "code",
      "source": [
        "def w_sum(x, y, w):\n",
        "  return sum([w_dot if x_dot == y else 0 for (x_dot, w_dot) in zip(x, w)])\n",
        "\n",
        "\n",
        "def get_probs(x, w):\n",
        "  x = np.array(x)\n",
        "  frequencies = np.asarray(np.unique(x, return_counts=True)).T  # [[element, n_elements], ...]\n",
        "  cardinal = sum(w)\n",
        "  return np.array(list(map(lambda info: w_sum(x, info[0], w) / cardinal, frequencies)))\n",
        "\n",
        "\n",
        "def gini(x, w):\n",
        "  p = get_probs(x, w)\n",
        "  return np.sum(p * (1 - p))\n",
        "\n",
        "\n",
        "def entropy(x, w):\n",
        "  p = get_probs(x, w)\n",
        "  return - np.sum(p * np.log2(p))\n",
        "\n",
        "\n",
        "def gain(left_y, right_y, left_weights, right_weights, criterion):\n",
        "  n_left = sum(left_weights)\n",
        "  n_right = sum(right_weights)\n",
        "  n_total = n_left + n_right\n",
        "\n",
        "  return 1 - (n_right / n_total) * criterion(right_y, right_weights) - (n_left / n_total) * criterion(left_y,\n",
        "                                                                                                      left_weights)"
      ],
      "metadata": {
        "id": "Res1SZquWUxH"
      },
      "execution_count": null,
      "outputs": []
    },
    {
      "cell_type": "code",
      "source": [
        "def gain(left_y, right_y, left_weights, right_weights, criterion):\n",
        "  n_left = sum(left_weights)\n",
        "  n_right = sum(right_weights)\n",
        "  n_total = n_left + n_right\n",
        "    \n",
        "  return 1 - (n_right / n_total) * criterion(right_y, right_weights) - (n_left / n_total) * criterion(left_y, left_weights)"
      ],
      "metadata": {
        "id": "6JJz-6DQl41P"
      },
      "execution_count": null,
      "outputs": []
    },
    {
      "cell_type": "markdown",
      "source": [
        "# Decision Tree"
      ],
      "metadata": {
        "id": "ryZT--7jWxzy"
      }
    },
    {
      "cell_type": "code",
      "source": [
        "class DecisionTreeLeaf:\n",
        "  def __init__(self):\n",
        "    self.y = None\n",
        "    self.frequencies = None\n",
        "\n",
        "  def get_probs(self):\n",
        "    return self.y\n",
        "\n",
        "\n",
        "class DecisionTreeNode(DecisionTreeLeaf):\n",
        "  def __init__(self, split_dim, split_value, left, right):\n",
        "    super().__init__()\n",
        "    self.split_dim = split_dim\n",
        "    self.split_value = split_value\n",
        "    self.left = left\n",
        "    self.right = right\n",
        "    self.all = None"
      ],
      "metadata": {
        "id": "XG0KDeZ5WzFd"
      },
      "execution_count": null,
      "outputs": []
    },
    {
      "cell_type": "code",
      "source": [
        "def get_most_frequent_class(y, w=None):\n",
        "  if w is None:\n",
        "    w = np.ones_like(y)\n",
        "  res_freq = {y_dot: 0 for y_dot in np.unique(np.array(y), return_counts=False)}\n",
        "  for (y_dot, w_dot) in zip(y, w):\n",
        "    res_freq[y_dot] += w_dot\n",
        "  return max(res_freq, key=res_freq.get), res_freq"
      ],
      "metadata": {
        "id": "LB1860ucW0s4"
      },
      "execution_count": null,
      "outputs": []
    },
    {
      "cell_type": "code",
      "source": [
        "class DecisionTreeClassifier:\n",
        "  def __init__(self, criterion=gini, max_depth=None, min_samples_leaf=1):\n",
        "    self.root = None\n",
        "    self.criterion = criterion\n",
        "    self.max_depth = max_depth if max_depth is not None else float(\"inf\")\n",
        "    self.node_id = 0\n",
        "    self.min_samples_leaf = min_samples_leaf\n",
        "\n",
        "  def _train(self, X, y, weights, cur_depth):\n",
        "    cur_node = None\n",
        "    if cur_depth > self.max_depth or len(X) <= self.min_samples_leaf:\n",
        "      cur_node = DecisionTreeLeaf()\n",
        "      cur_node.y, cur_node.frequencies = get_most_frequent_class(y, weights)\n",
        "      return cur_node\n",
        "    max_q, best_dim, best_val, best_left_S, best_right_S = float(\"-inf\"), None, None, None, None\n",
        "    unique_values_per_dim = [np.sort(np.unique(row)) for row in np.transpose(X)]\n",
        "\n",
        "    for dim, unique in enumerate(unique_values_per_dim):\n",
        "      if len(unique) == 1:\n",
        "        continue\n",
        "      for split_val in unique:\n",
        "        left_S = [(x, y_dot, w) for (x, y_dot, w) in zip(X, y, weights) if x[dim] < split_val]\n",
        "        right_S = [(x, y_dot, w) for (x, y_dot, w) in zip(X, y, weights) if x[dim] >= split_val]\n",
        "        if len(left_S) == 0 or len(right_S) == 0:\n",
        "          continue\n",
        "\n",
        "        left_X, left_y, left_weights = zip(*left_S)\n",
        "        right_X, right_y, right_weights = zip(*right_S)\n",
        "\n",
        "        q = gain(left_y, right_y, left_weights, right_weights, self.criterion)\n",
        "        if q > max_q:\n",
        "          max_q = q\n",
        "          best_dim = dim\n",
        "          best_val = split_val\n",
        "          best_left_S = left_S\n",
        "          best_right_S = right_S\n",
        "\n",
        "    if best_right_S is None or best_left_S is None:\n",
        "      cur_node = DecisionTreeLeaf()\n",
        "      cur_node.y, cur_node.frequencies = get_most_frequent_class(y, weights)\n",
        "      return cur_node\n",
        "\n",
        "    best_right_X, best_right_y, best_right_weights = zip(*best_right_S)\n",
        "    best_left_X, best_left_y, best_left_weights = zip(*best_left_S)\n",
        "\n",
        "    left = self._train(best_left_X, best_left_y, best_left_weights, cur_depth + 1)\n",
        "    right = self._train(best_right_X, best_right_y, best_right_weights, cur_depth + 1)\n",
        "\n",
        "    cur_node = DecisionTreeNode(best_dim, best_val, left, right)\n",
        "    cur_node.y = get_most_frequent_class(y)\n",
        "    return cur_node\n",
        "\n",
        "  def fit(self, X, y, weights=None):\n",
        "    if weights is None:\n",
        "      weights = [1. for _ in y]\n",
        "    self.root = self._train(X, y, weights, 0)\n",
        "\n",
        "  def predict(self, X):\n",
        "    return [self._find_leaf(x).get_probs() for x in X]\n",
        "\n",
        "  def _find_leaf(self, x):\n",
        "    cur_node = self.root\n",
        "    while isinstance(cur_node, DecisionTreeNode):\n",
        "      if x[cur_node.split_dim] < cur_node.split_value:\n",
        "        cur_node = cur_node.left\n",
        "      else:\n",
        "        cur_node = cur_node.right\n",
        "    return cur_node"
      ],
      "metadata": {
        "id": "qrYZcZ-Ip_L6"
      },
      "execution_count": null,
      "outputs": []
    },
    {
      "cell_type": "code",
      "source": [
        "get_most_frequent_class([1, -1, 1], [0.01, 0.9, 0.0])"
      ],
      "metadata": {
        "colab": {
          "base_uri": "https://localhost:8080/"
        },
        "id": "9iHUK9p-cbIm",
        "outputId": "44b9459a-ef05-4a45-f69a-efa6fc7ceb62"
      },
      "execution_count": null,
      "outputs": [
        {
          "output_type": "execute_result",
          "data": {
            "text/plain": [
              "(-1, {-1: 0.9, 1: 0.01})"
            ]
          },
          "metadata": {},
          "execution_count": 24
        }
      ]
    },
    {
      "cell_type": "markdown",
      "source": [
        "# Random forest"
      ],
      "metadata": {
        "id": "QkvElYo1tvYw"
      }
    },
    {
      "cell_type": "code",
      "source": [
        "import random\n",
        "import numpy as np\n",
        "def cut_columns(X, columns_to_cut, axis=0):\n",
        "  if isinstance(X, pd.DataFrame):\n",
        "    return X.drop(columns_to_cut, axis=axis, inplace=False)\n",
        "  return np.delete(X, columns_to_cut, axis)\n",
        "\n",
        "\n",
        "def cut_rows(X, y, weights, ratio=0.1):\n",
        "  idx = random.sample(list(range(len(X))), int(ratio * len(X)))\n",
        "  if isinstance(X, pd.DataFrame):\n",
        "    X = X.drop(idx, axis=0)\n",
        "    y = y.drop(idx, axis=0)\n",
        "    w = w.drop(idx, axis=0)\n",
        "  else:\n",
        "    X = np.delete(X, idx, 0)\n",
        "    y = np.delete(y, idx, 0)\n",
        "    x = np.delete(weights, idx, 0)\n",
        "  return X, y, idx\n",
        "\n",
        "\n",
        "class DecisionTreeWrapper:\n",
        "  def __init__(self, **tree_kwargs):\n",
        "    self.tree = DecisionTreeClassifier(**tree_kwargs)\n",
        "    self.removed_columns = []\n",
        "    self.unseen_samples = []\n",
        "\n",
        "  def predict(self, X):\n",
        "    X = cut_columns(X, self.removed_columns, 1)\n",
        "    if isinstance(X, pd.DataFrame):\n",
        "      X = X.values\n",
        "    X = X.tolist()\n",
        "    return self.tree.predict(X)\n",
        "\n",
        "  def fit(self, X, y, weights, max_features=\"auto\", drop_columns=True, drop_rows=True):\n",
        "    if max_features == \"auto\":\n",
        "      max_features = float(\"inf\")\n",
        "\n",
        "    if drop_columns:\n",
        "      self.removed_columns = random.sample(range(len(X[0])), min(len(X[0]) // 6, max_features))\n",
        "      X = cut_columns(X, self.removed_columns, 1)\n",
        "    if drop_rows:\n",
        "      X, y, self.unseen_samples = cut_rows(X, y, weights)\n",
        "    if isinstance(X, pd.DataFrame):\n",
        "      X = X.values\n",
        "      y = y.values\n",
        "    X = X.tolist()\n",
        "    y = y.tolist()\n",
        "    weights = weights.tolist()\n",
        "    self.tree.fit(X, y, weights)"
      ],
      "metadata": {
        "id": "pAlKEBFat7Sg"
      },
      "execution_count": null,
      "outputs": []
    },
    {
      "cell_type": "code",
      "source": [
        "import copy\n",
        "from scipy import stats\n",
        "\n",
        "\n",
        "class RandomForestClassifier:\n",
        "  def __init__(self, criterion=gini, max_depth=None, min_samples_leaf=1, max_features=\"auto\", n_estimators=10,\n",
        "               drop_columns=True, drop_rows=True):\n",
        "    self.trees = [DecisionTreeWrapper(criterion=criterion, max_depth=max_depth, min_samples_leaf=min_samples_leaf)\n",
        "                  for _ in range(n_estimators)]\n",
        "    self.max_features = max_features\n",
        "    self.drop_columns = drop_columns\n",
        "    self.drop_rows = drop_rows\n",
        "\n",
        "  def fit(self, X, y, weights=None):\n",
        "    if weights is None:\n",
        "      weights = np.ones_like(y)\n",
        "    for tree in self.trees:\n",
        "      tree.fit(copy.copy(X), y, weights, max_features=self.max_features,\n",
        "               drop_columns=self.drop_columns, drop_rows=self.drop_rows)\n",
        "\n",
        "  def predict(self, X):\n",
        "    predictions = [tree.predict(X) for tree in self.trees]\n",
        "    return stats.mode(predictions, axis=0).mode[0]"
      ],
      "metadata": {
        "id": "uI4DlLnfuC0n"
      },
      "execution_count": null,
      "outputs": []
    },
    {
      "cell_type": "code",
      "source": [
        "from sklearn.metrics import accuracy_score\n",
        "\n",
        "\n",
        "def strong_classifier(classifier):\n",
        "  def classify(X):\n",
        "    return np.sign(np.sum([b * np.array(c.predict(X)) for (b, c) in classifier], axis=0))\n",
        "\n",
        "  return classify\n",
        "\n",
        "\n",
        "class StrongClassifierWrapper:\n",
        "  def __init__(self, clf):\n",
        "    self.clf = clf\n",
        "\n",
        "  def predict(self, X):\n",
        "    return self.clf(X)\n",
        "\n",
        "\n",
        "def adaboost(data, number_of_steps, tree_kwargs=None):  # D - Data, T - number of steps\n",
        "  if tree_kwargs is None:\n",
        "    tree_kwargs = {}\n",
        "  quality_history, final_classifier = [], []\n",
        "  X, y = data\n",
        "  weights = [1 / len(y) for _ in y]\n",
        "  for t in range(number_of_steps):\n",
        "    # Train weak classifier\n",
        "    a = DecisionTreeClassifier(max_depth=3, **tree_kwargs)\n",
        "    a.fit(X, y, weights)\n",
        "\n",
        "    # Obtain new classifier's predictions (hypothesis)\n",
        "    predictions = a.predict(X)\n",
        "\n",
        "    # Computer weighted error\n",
        "    n = sum([w * (0 if y_dot == p_dot else 1) for (w, y_dot, p_dot) in zip(weights, y, predictions)])\n",
        "\n",
        "    # Choose reliability of a weak classifier\n",
        "    b = 0.5 * np.log((1 - n) / n)\n",
        "\n",
        "    # Update weights\n",
        "    error = np.prod([predictions, y], axis=0)\n",
        "    weights = [w * np.exp(-b * e) for (w, e) in zip(weights, error)]\n",
        "\n",
        "    # Normalize weights so that the sum to 1\n",
        "    norm_factor = sum(weights)\n",
        "    weights = [w / norm_factor for w in weights]\n",
        "\n",
        "    # Add current weak classifier to the strong classifier\n",
        "    final_classifier.append((b, a))\n",
        "\n",
        "    # Compute model quality on the test set\n",
        "    strong_predictions = strong_classifier(final_classifier)(X)\n",
        "    quality_history.append(accuracy_score(y, strong_predictions))\n",
        "  return final_classifier, quality_history"
      ],
      "metadata": {
        "id": "-wkl1z4Vqycn"
      },
      "execution_count": null,
      "outputs": []
    },
    {
      "cell_type": "markdown",
      "source": [
        "# Chip forest"
      ],
      "metadata": {
        "id": "tlhmxfJpsjy9"
      }
    },
    {
      "cell_type": "code",
      "source": [
        "from sklearn.model_selection import train_test_split\n",
        "\n",
        "X, y = to_x_y(chip)\n",
        "X_train, X_test, y_train, y_test = train_test_split(X, y, test_size=0.2, random_state=42)\n",
        "chip_forest = RandomForestClassifier(max_depth=float(\"inf\"), n_estimators=5, min_samples_leaf=1, criterion=entropy)\n",
        "chip_forest.fit(X_train, y_train)"
      ],
      "metadata": {
        "id": "X8v4j9g9sjJf"
      },
      "execution_count": null,
      "outputs": []
    },
    {
      "cell_type": "code",
      "source": [
        "from mlxtend.plotting import plot_decision_regions\n",
        "\n",
        "plot_decision_regions(X.astype(np.float), np.array(y), clf=chip_forest)"
      ],
      "metadata": {
        "colab": {
          "base_uri": "https://localhost:8080/"
        },
        "id": "wCDC-O3AsmB0",
        "outputId": "05718cd8-790c-49df-a3bd-bd67a5dae08b"
      },
      "execution_count": null,
      "outputs": [
        {
          "output_type": "stream",
          "name": "stderr",
          "text": [
            "/usr/local/lib/python3.7/dist-packages/ipykernel_launcher.py:3: DeprecationWarning: `np.float` is a deprecated alias for the builtin `float`. To silence this warning, use `float` by itself. Doing this will not modify any behavior and is safe. If you specifically wanted the numpy scalar type, use `np.float64` here.\n",
            "Deprecated in NumPy 1.20; for more details and guidance: https://numpy.org/devdocs/release/1.20.0-notes.html#deprecations\n",
            "  This is separate from the ipykernel package so we can avoid doing imports until\n"
          ]
        },
        {
          "output_type": "error",
          "ename": "ValueError",
          "evalue": "ignored",
          "traceback": [
            "\u001b[0;31m---------------------------------------------------------------------------\u001b[0m",
            "\u001b[0;31mValueError\u001b[0m                                Traceback (most recent call last)",
            "\u001b[0;32m<ipython-input-25-a69a8e5833b2>\u001b[0m in \u001b[0;36m<module>\u001b[0;34m()\u001b[0m\n\u001b[1;32m      1\u001b[0m \u001b[0;32mfrom\u001b[0m \u001b[0mmlxtend\u001b[0m\u001b[0;34m.\u001b[0m\u001b[0mplotting\u001b[0m \u001b[0;32mimport\u001b[0m \u001b[0mplot_decision_regions\u001b[0m\u001b[0;34m\u001b[0m\u001b[0;34m\u001b[0m\u001b[0m\n\u001b[1;32m      2\u001b[0m \u001b[0;34m\u001b[0m\u001b[0m\n\u001b[0;32m----> 3\u001b[0;31m \u001b[0mplot_decision_regions\u001b[0m\u001b[0;34m(\u001b[0m\u001b[0mX\u001b[0m\u001b[0;34m.\u001b[0m\u001b[0mastype\u001b[0m\u001b[0;34m(\u001b[0m\u001b[0mnp\u001b[0m\u001b[0;34m.\u001b[0m\u001b[0mfloat\u001b[0m\u001b[0;34m)\u001b[0m\u001b[0;34m,\u001b[0m \u001b[0mnp\u001b[0m\u001b[0;34m.\u001b[0m\u001b[0marray\u001b[0m\u001b[0;34m(\u001b[0m\u001b[0my\u001b[0m\u001b[0;34m)\u001b[0m\u001b[0;34m,\u001b[0m \u001b[0mclf\u001b[0m\u001b[0;34m=\u001b[0m\u001b[0mchip_forest\u001b[0m\u001b[0;34m)\u001b[0m\u001b[0;34m\u001b[0m\u001b[0;34m\u001b[0m\u001b[0m\n\u001b[0m",
            "\u001b[0;32m/usr/local/lib/python3.7/dist-packages/mlxtend/plotting/decision_regions.py\u001b[0m in \u001b[0;36mplot_decision_regions\u001b[0;34m(X, y, clf, feature_index, filler_feature_values, filler_feature_ranges, ax, X_highlight, res, legend, hide_spines, markers, colors, scatter_kwargs, contourf_kwargs, scatter_highlight_kwargs)\u001b[0m\n\u001b[1;32m    127\u001b[0m     \"\"\"\n\u001b[1;32m    128\u001b[0m \u001b[0;34m\u001b[0m\u001b[0m\n\u001b[0;32m--> 129\u001b[0;31m     \u001b[0mcheck_Xy\u001b[0m\u001b[0;34m(\u001b[0m\u001b[0mX\u001b[0m\u001b[0;34m,\u001b[0m \u001b[0my\u001b[0m\u001b[0;34m,\u001b[0m \u001b[0my_int\u001b[0m\u001b[0;34m=\u001b[0m\u001b[0;32mTrue\u001b[0m\u001b[0;34m)\u001b[0m  \u001b[0;31m# Validate X and y arrays\u001b[0m\u001b[0;34m\u001b[0m\u001b[0;34m\u001b[0m\u001b[0m\n\u001b[0m\u001b[1;32m    130\u001b[0m     \u001b[0mdim\u001b[0m \u001b[0;34m=\u001b[0m \u001b[0mX\u001b[0m\u001b[0;34m.\u001b[0m\u001b[0mshape\u001b[0m\u001b[0;34m[\u001b[0m\u001b[0;36m1\u001b[0m\u001b[0;34m]\u001b[0m\u001b[0;34m\u001b[0m\u001b[0;34m\u001b[0m\u001b[0m\n\u001b[1;32m    131\u001b[0m \u001b[0;34m\u001b[0m\u001b[0m\n",
            "\u001b[0;32m/usr/local/lib/python3.7/dist-packages/mlxtend/utils/checking.py\u001b[0m in \u001b[0;36mcheck_Xy\u001b[0;34m(X, y, y_int)\u001b[0m\n\u001b[1;32m     21\u001b[0m         raise ValueError('y must be an integer array. Found %s. '\n\u001b[1;32m     22\u001b[0m                          \u001b[0;34m'Try passing the array as y.astype(np.integer)'\u001b[0m\u001b[0;34m\u001b[0m\u001b[0;34m\u001b[0m\u001b[0m\n\u001b[0;32m---> 23\u001b[0;31m                          % y.dtype)\n\u001b[0m\u001b[1;32m     24\u001b[0m \u001b[0;34m\u001b[0m\u001b[0m\n\u001b[1;32m     25\u001b[0m     \u001b[0;32mif\u001b[0m \u001b[0;32mnot\u001b[0m \u001b[0;34m(\u001b[0m\u001b[0;34m'float'\u001b[0m \u001b[0;32min\u001b[0m \u001b[0mstr\u001b[0m\u001b[0;34m(\u001b[0m\u001b[0mX\u001b[0m\u001b[0;34m.\u001b[0m\u001b[0mdtype\u001b[0m\u001b[0;34m)\u001b[0m \u001b[0;32mor\u001b[0m \u001b[0;34m'int'\u001b[0m \u001b[0;32min\u001b[0m \u001b[0mstr\u001b[0m\u001b[0;34m(\u001b[0m\u001b[0mX\u001b[0m\u001b[0;34m.\u001b[0m\u001b[0mdtype\u001b[0m\u001b[0;34m)\u001b[0m\u001b[0;34m)\u001b[0m\u001b[0;34m:\u001b[0m\u001b[0;34m\u001b[0m\u001b[0;34m\u001b[0m\u001b[0m\n",
            "\u001b[0;31mValueError\u001b[0m: y must be an integer array. Found float64. Try passing the array as y.astype(np.integer)"
          ]
        }
      ]
    },
    {
      "cell_type": "code",
      "source": [],
      "metadata": {
        "id": "rgM7IZHMs4Us"
      },
      "execution_count": null,
      "outputs": []
    }
  ]
}