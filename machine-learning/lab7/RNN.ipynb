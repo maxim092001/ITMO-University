{
  "nbformat": 4,
  "nbformat_minor": 0,
  "metadata": {
    "colab": {
      "provenance": []
    },
    "kernelspec": {
      "name": "python3",
      "display_name": "Python 3"
    },
    "language_info": {
      "name": "python"
    }
  },
  "cells": [
    {
      "cell_type": "markdown",
      "source": [
        "# RNN lab Johnny Depp vs Amber Heard"
      ],
      "metadata": {
        "id": "vDm7E-fmmxdP"
      }
    },
    {
      "cell_type": "code",
      "execution_count": null,
      "metadata": {
        "id": "WnEji0XcafBz"
      },
      "outputs": [],
      "source": [
        "FILE = 'drive/MyDrive/data/depp_vs_heard.txt'\n",
        "USELESS = [':', '\\\"', '\\'', '(', ')', ',', ':', '_', '/', '«', '–', '»', '[', ']', '„', '“', '&', '#', '`', '—', '-', '$', '’']\n",
        "END_CHARS = ['?', ';', '!', '..', '…']\n",
        "NUMBERS = ['0', '1', '2', '3', '4', '5', '6', '7', '8', '9']\n",
        "DOT = '.'\n",
        "SPACE = ' '\n",
        "NOTHING = ''\n",
        "\n",
        "def load_data():\n",
        "    text = []\n",
        "    text_string_format = ''\n",
        "    with open(FILE, encoding='UTF-8') as file:\n",
        "        for line in file.readlines():\n",
        "            line = line.strip()\n",
        "            if (len(line) > 0) and (not line.isupper()):\n",
        "                line = line.lower()\n",
        "                for char in END_CHARS:\n",
        "                    line = line.replace(char, DOT)\n",
        "                for char in USELESS:\n",
        "                    line = line.replace(char, SPACE)\n",
        "                for char in NUMBERS:\n",
        "                    line = line.replace(char, NOTHING)\n",
        "                line = \" \".join(line.split())\n",
        "                lines = line.split(sep='.')\n",
        "                for l in lines:\n",
        "                    l = l.strip()\n",
        "                    if len(l) != 0:\n",
        "                        text.append(l + DOT)\n",
        "                        text_string_format += l + DOT\n",
        "    return text, text_string_format"
      ]
    },
    {
      "cell_type": "code",
      "source": [
        "data, text_string_format = load_data()"
      ],
      "metadata": {
        "id": "t-F3qdp-j0Rh"
      },
      "execution_count": null,
      "outputs": []
    },
    {
      "cell_type": "code",
      "source": [
        "data"
      ],
      "metadata": {
        "colab": {
          "base_uri": "https://localhost:8080/"
        },
        "id": "fRh7ej8Pj1Qh",
        "outputId": "88ec0de0-235c-4dd7-eb25-2e99695be10d"
      },
      "execution_count": null,
      "outputs": [
        {
          "output_type": "execute_result",
          "data": {
            "text/plain": [
              "['johnny depp is still facing off against amber heard in a contentious legal battle where new information is continuously coming to light and new accusations are being leveled during each day of the trial.',\n",
              " 'the defamation lawsuit which was first filed in kicked off on april with opening statements the following day that set the tone for the tumultuous courtroom battle that was about to commence.',\n",
              " 'depps lawyers alleged that heard was fabricating claims to cast her ex husband in a bad light and heards lawyers accused depp of sexual violence during their marriage among other claims.',\n",
              " 'the lawsuit itself kicked off nearly six years after heard first filed for divorce from depp on may after months of marriage citing irreconcilable differences.',\n",
              " 'days later heard was granted a temporary restraining order against depp after an incident in which heard claims depp physically attacked her which depp has long denied.',\n",
              " 'as part of their divorce which was finalized in january depp was ordered to pay heard million which she chose to instead have donated to several charities.',\n",
              " 'but that would prove to be far from the end of the road for the former couples legal sparring.',\n",
              " 'heards sister takes the witness stand.',\n",
              " 'heards sister whitney henriquez testified on wednesday and claimed she witnessed depp not only attack heard but also her as well.',\n",
              " 'she claimed this alleged fight that turned violent went down at one of depps penthouses in march.',\n",
              " 'henriquez who was living in one of the many connecting penthouses owned by depp said she was woken up in the middle of the night after heard stormed into her room fuming after learning depp had allegedly cheated on her.',\n",
              " 'can you believe hes cheating on me.',\n",
              " 'henriquez claimed heard told her that night.',\n",
              " 'your fking brother is cheating on me.',\n",
              " 'henriquez has previously said she referred to depp as her brother.',\n",
              " 'henriquez claimed things turned violent after heard and depp traded insults with depp rushing up the stairs and initially hitting heards sister before unleashing a violent attack on heard.',\n",
              " 'johnny runs up the stairs.',\n",
              " 'im facing amber and he comes up from behind me strikes me in the back henriquez alleged.',\n",
              " 'i hear amber shout dont hit my fking sister.',\n",
              " 'she smacks him lands one.',\n",
              " 'henriquez claimed depp grabbed heard by the hair with one hand and was whacking her repeatedly with the other hand.',\n",
              " 'the sisters henriquez claimed then locked themselves in a bedroom.',\n",
              " 'she claimed depp continued shouting i fking hate you.',\n",
              " 'hate you both.',\n",
              " 'fking cts fking whores.',\n",
              " 'henriquez claimed depp kept screaming like an animal.',\n",
              " 'the next day henriquez claimed heards closet had been completely destroyed and racks were overturned and tossed down the stairs.',\n",
              " 'the jury was then shown a photo showing a rack of clothes tossed on the floor.',\n",
              " 'johnny depp trial amber heards makeup artist details covering up actress alleged bruises.',\n",
              " 'melanie inglessis heards professional makeup artist also testified via a recorded deposition.',\n",
              " 'she claimed that for an appearance on the late late show with james corden in december inglessis covered the discoloration the bruises with slightly heavier concealer.',\n",
              " 'heard had also previously testified about this claim when she took the stand.',\n",
              " 'raquel pennington also a former friend of the ex couple sat for a deposition and that taped video was played in court.',\n",
              " 'she said she was in attendance when heard was getting ready for the late late show and claimed she saw injuries on her body.',\n",
              " 'pennington also claimed depp admitted to her that he was a fk up.',\n",
              " 'my understanding was that he was sorry and apologetic for his behavior pennington claimed.',\n",
              " 'verbal arguments.',\n",
              " 'physical arguments.',\n",
              " 'what he made clear to me in our conversations is that he was very sorry and that he was working to get clean and get better and that he was asking for forgiveness and trying to think that he was going to get better.',\n",
              " 'pennington added that she did see depp get better a lot of times but never saw him get better permanently.',\n",
              " 'heard dismissed from the witness stand.',\n",
              " 'depps defense attorney camille vasquez brutally cross examined the actress and questioned her honesty particularly about details during an alleged fight with the actor while in australia in march.',\n",
              " 'vasquez wanted to know from heard why she never got medical attention after she allegedly slipping on broken glass while being barefoot during the alleged fight with depp.',\n",
              " 'heard had previously claimed depp threw a bottle of liquor at her threatened to carve up her face and allegedly penetrated her with it.',\n",
              " 'during that alleged fight heard had also claimed depp smashed a phone to smithereens.',\n",
              " 'but vasquez said no phones were shown smashed in pictures taken of the scene.',\n",
              " 'there was also audio recording played for the jury in which heard and depp are insulting each other.',\n",
              " 'i was expressing frustration about his criticism of my carer and how many problems that caused within the dynamic of our relationship heard explained.',\n",
              " 'vasquez asked her if she called him a sellout and a joke.',\n",
              " 'i called him horrible ugly things she said.',\n",
              " 'we spoke to each other in a really horrible way.',\n",
              " 'vasquez then reiterated that heard called him a washed up piece of st to which heard responded with i think we both called each other that on that occasion yes.',\n",
              " 'during cross examination heard also denied depp got her the role in aquaman after vasquez point blank asked her mr.',\n",
              " 'depp got you that role in aquaman didnt he.',\n",
              " 'heard responded saying excuse me.',\n",
              " 'prompting vasquez to repeat the question.',\n",
              " 'no ms.',\n",
              " 'vasquez.',\n",
              " 'i got myself that role by auditioning.',\n",
              " 'thats how that works heard shot back.',\n",
              " 'heard had also testified that she fought really hard to stay in the movie after the communication stopped between her and warner bros.',\n",
              " 'after depps attorney called heards abuse claims in a washington post op ed a hoax.',\n",
              " 'that op ed resulted in depp filing a million defamation lawsuit against heard.',\n",
              " 'heard testified that they didnt want to include me in the film and though she ultimately remained in the sequel she claimed it was a very pared down version of that role.',\n",
              " 'i was given a script and then given new versions of the script that had taken away scenes that had action in it that depicted my character and another character without giving any spoilers away you know theres two characters fighting with one another.',\n",
              " 'they basically took a bunch out of my role.',\n",
              " 'they didnt yeah they just removed a bunch out she claimed.',\n",
              " 'heard had also testified that her sister whitney taught depp how to use tampon applicator to snort cocaine.',\n",
              " 'she also denied defecating on depps bed in and instead blamed it on their dog.',\n",
              " 'when she was finally dismissed from the witness stand heard exited the courtroom while depp was all smiles while giving vasquez a hug.',\n",
              " 'amber heard calls johnny depps injury from honeymoon picture photoshopped trial highlights.',\n",
              " 'heard takes the witness stand.',\n",
              " 'the year old actress made a number of damming allegations against the actor on wednesday may including claims that depp physically assaulted her on a number of occasions and that he allegedly performed a cavity search on her.',\n",
              " 'heard got emotional recalling the first time she claimed depp slapped her after asking him about a tattoo on his arm which she said looked like a muddled faded tattoo.',\n",
              " 'heard said when she asked him what the tattoo said depp responded with wino forever.',\n",
              " 'heard recalled laughing because she thought depp was joking and thats when she claims he slapped her across the face.',\n",
              " 'and i laughed she said growing emotional.',\n",
              " 'i laughed because i didnt know what else to do.',\n",
              " 'i thought this must be a joke.',\n",
              " 'i just stared at him kind of laughing still thinking that he was going to start laughing too to tell me it was a joke but he didn t.',\n",
              " 'he said you think it s so funny.',\n",
              " 'you think you re a funny bch and he slapped me again.',\n",
              " 'its unclear when this alleged incident happened but heard would go on to offer more details about other alleged incidents.',\n",
              " 'she claimed in may depp flew into a rage after accusing her of cheating on him and stealing his cocaine while on a trip to a california desert.',\n",
              " 'he ripped my dress the top part of my dress she alleged.',\n",
              " 'i had just dyed this thing pink.',\n",
              " 'hes grabbing my breasts he s touching my thighs he rips my underwear off.',\n",
              " 'its at this point during her testimony that heard began choking back tears.',\n",
              " 'he proceeds to do a cavity search she claimed.',\n",
              " 'he said he was looking for his drugs his cocaine his coke.',\n",
              " 'i was wondering how i somebody who didn t do cocaine and was against it that was in and of itself causing problems in the relationship.',\n",
              " 'he was insinuating i was hiding it.',\n",
              " 'he was telling me we are going to conduct a cavity search.',\n",
              " 'like just shoved his fingers inside me.',\n",
              " 'i just stood there staring at the stupid light.',\n",
              " 'i didn t know what to do.',\n",
              " 'i just stood there.',\n",
              " 'while he did that.',\n",
              " 'he twisted his fingers around.',\n",
              " 'i didn t say stop or anything.',\n",
              " 'amber heard describes johnny depp allegedly penetrating her with a bottle trial highlights.',\n",
              " 'heard also recalled a july incident in which she claimed depp threatened he could kill her after she claimed he grew furious for telling on him to his kids that he had fallen off the wagon and started drinking again.',\n",
              " 'the incidents alleged to have happened on a trip to the bahamas with depps two children lily rose and jack.',\n",
              " 'according to heard the actor had fallen off the wagon and was hiding his drinking by pouring alcohol in coffee cups.',\n",
              " 'she claimed his behavior became erratic to the point it upset lily rose who became panicky.',\n",
              " 'im holding her and comforting her heard recalled.',\n",
              " 'johnny comes in and within a few seconds i realize that he shifted his attention on me and then he seemed very angry.',\n",
              " 'he asked lily rose to leave.',\n",
              " 'lily rose leaves looks at me crying.',\n",
              " 'and johnny starts accusing me of kind of telling on him and calling him a drunk in front of his kids.',\n",
              " 'heard then claimed depp turned violent.',\n",
              " 'he slams me up against the side wall we were in the bedroom this whole time up against the wall of the cabin and slams me up by my neck she recalled.',\n",
              " 'and holds me there for a second and tells me he could fing kill me and that i was an embarrassment.',\n",
              " 'psychologist depp allegedly penetrated heard with bottle.',\n",
              " 'dr.',\n",
              " 'dawn hughes a clinical and forensic psychologist hired by heards legal team testified on tuesday may that she diagnosed heard with post traumatic stress disorder or ptsd as a result of alleged intimate partner violence that she suffered at the hands of depp.',\n",
              " 'dr.',\n",
              " 'hughes said she ultimately arrived at a few expert opinions including that intimate partner violence occurred after depps alleged to have pushed shoved slapped choked and kicked heard as well as slammed her into a wall causing the actress to sustain injuries that ranged from bruising and pain to some cuts and a loss of consciousnesses.',\n",
              " 'she also described some of heards sexual assault allegations against depp including that at one time he allegedly penetrated her with a liquor bottle.',\n",
              " 'dr.',\n",
              " 'hughes testimony came after dr.',\n",
              " 'shannon curry a clinical and forensics psychologist hired by depps legal team diagnosed heard with borderline personality disorder and histrionic personality disorder.',\n",
              " 'as for the ptsd claim dr.',\n",
              " 'curry said that she did not believe that heard has ptsd as both the actress and dr.',\n",
              " 'hughes have claimed.',\n",
              " 'ms.',\n",
              " 'heard did not have ptsd dr.',\n",
              " 'curry said and there were also pretty significant indications that she was grossly exaggerating symptoms of ptsd when asked about them.',\n",
              " 'amber heard and johnny depps lawyers slam each other after her explosive testimony.',\n",
              " 'heards motion to dismiss the lawsuit is denied.',\n",
              " 'on tuesday may depps team called their final witness forensic accountant michael spindler who testified that heards op ed led the actor to suffer lost earnings of approximately million.',\n",
              " 'heards lawyers however argued that the monetary loss was not on their client but rather due to depps films worsening performance at the box office among other factors.',\n",
              " 'following spindlers testimony heards lawyers filed a motion to dismiss the lawsuit arguing that depp s team did not present enough evidence to justify their case.',\n",
              " 'they also argued that the actress should be awarded a summary judgment.',\n",
              " 'depps attorney argued that they had presented enough evidence citing audio recordings of alleged arguments between the former couple witness testimony that claimed heard had physically abused the actor and more.',\n",
              " 'judge penney azcarate sided with depps team noting if there is a scintilla of evidence that a reasonable juror could weigh then the matter survives a motion to strike.',\n",
              " 'following the courts decision a spokesperson for depp reacted to the news in a statement to et.',\n",
              " 'over the last.',\n",
              " 'weeks we ve seen and heard from nearly witnesses who have attested to and supported mr.',\n",
              " 'depp s claims that ms.',\n",
              " 'heard defamed him in her op ed the statement read.',\n",
              " 'ms.',\n",
              " 'heard s reckless op ed in turn caused him to lose a.',\n",
              " 'million deal with disney for pirates of the caribbean resulting in an overall loss of earnings of over million since december.',\n",
              " 'numerous witnesses have testified that ms.',\n",
              " 'heard engaged in psychological verbal and physical abuse towards mr.',\n",
              " 'depp and we are pleased at chief judge azcarate s ruling to continue with the trial after mr.',\n",
              " 'rottenborn failed to convince the court that there was reason to dismiss the case the statement continued.',\n",
              " 'we stand confident in the future of the case and for the truth to be continued to be shared.',\n",
              " 'with depps million defamation lawsuit in full swing et is breaking down what sparked the suit and what has surfaced so far over the course of the courtroom battle.',\n",
              " 'the beginning the basis for the lawsuit.',\n",
              " 'depp first filed his defamation lawsuit against heard in march in response to an op ed heard wrote for the washington post in december about being the victim of domestic violence.',\n",
              " 'the article itself did not mention depp by name however their contentious divorce had been in the news over the previous two years.',\n",
              " 'in the suit depp claims that heards allegations of abuse against him were an elaborate hoax.',\n",
              " 'depp alleges the op ed caused damage to his career.',\n",
              " 'he says he was dropped from disneys pirates of the caribbean franchise four days after the op ed was published.',\n",
              " 'though heard never mentioned depp by name in the article the suit claims that the piece depends on the central premise that ms.',\n",
              " 'heard was a domestic abuse victim and that mr.',\n",
              " 'depp perpetrated domestic violence against her.',\n",
              " 'while depp originally filed in the subsequent coronavirus pandemic pushed the case back significantly.',\n",
              " 'the opening statements.',\n",
              " 'johnny depp amber heard trial continues everything we know.',\n",
              " 'in the opening statements which were broadcast on courttv heards lawyer ben rottenborn claimed that heard suffered abuse that took many forms including physical emotional and psychological.',\n",
              " 'the headline for the online version of heards op ed read amber heard i spoke up against sexual violence and faced our cultures wrath.',\n",
              " 'that has to change.',\n",
              " 'rottenborn claimed that heard did not write the headline herself nor was she given final approval for it.',\n",
              " 'however the attorney alleged of the headline tragically its true.',\n",
              " 'amber did suffer sexual violence at the hands of depp rottenborn claimed.',\n",
              " 'you will hear in the most graphic and horrifying terms about the violence that she suffered.',\n",
              " 'youll hear that straight from her.',\n",
              " 'she will get on the stand and she will tell you that it happened.',\n",
              " 'depps rep refuted the claims in a statement to et sharing these fictitious claims were never made at the onset of amber s allegations in and only advantageously surfaced years later once she was sued for defamation after noting in her op ed that she was a victim of sexual violence.',\n",
              " 'words are key in a defamation case and conveniently this allegation only came after that.',\n",
              " 'in her opening statement depps attorney camille vasquez reiterated the allegation that heard fabricated her claims to elevate her own career and notoriety amid the height of the metoo movement.',\n",
              " 'depps sister is the first to testify.',\n",
              " 'the actors sister and personal manager christi dembrowski was the first person to take the stand to refute heards claims that depp was abusive.',\n",
              " 'according to dembrowski she witnessed depp being physically abused and hurt by their mother and claimed that depp swore to never perpetrate that sort of violence.',\n",
              " 'she also claimed that shed not seen a reason to believe that depp struggled with drugs or alcohol abuse.',\n",
              " 'however on cross examination dembrowski struggled to reconcile her defense of depps mental health with text messages she sent in which she expressed concern over his use of pain pills.',\n",
              " 'one text sent to heard read i love him so much but he needs help.',\n",
              " 'dembrowski claimed that was specifically in connection to his dependence on pain medication.',\n",
              " 'dembrowski also claimed that heard once called depp while married an old fat man dembrowski claims that heard got mad when depp was offered advertising work for dior and allegedly told the actor they re about class and style and you don t have style.',\n",
              " 'depps longtime friend isaac baruch defends the actor in emotional testimony.',\n",
              " 'depps longtime friend and neighbor isaac baruch took the stand on april and claimed that hed only ever seen the couple in two arguments once in person and once over the phone.',\n",
              " 'baruch claimed that heard had told him once that depp had thrown a phone and struck her in the face but baruch stated that he did not see any visible marks on heards face when he saw her the day after the alleged altercation.',\n",
              " 'baruch also claims to have seen a security camera video of heard practicing getting hit by a fake punch thrown by her sister while in the elevator at the building here depp and heard lived.',\n",
              " 'depps lawyers have claimed this video shows heard practicing for a real punch in the future as part of her alleged efforts to fabricate evidence of abuse.',\n",
              " 'baruch got emotional as he defended his longtime friend and chastised heard stating his family has been completely wrecked by all of this stuff and it s not fair.',\n",
              " 'it s not right what she did.',\n",
              " 'it s insane.',\n",
              " 'however baruch who has known depp since the s and previously worked as the manager of depps nightclub the viper room confirmed that he received profane texts from depp regarding his ex in including one in which the actor said he hoped heards rotting corpse is decomposing in the fking trunk of a honda civic.',\n",
              " 'another text read that c ruined such a fking cool life we had for a while.',\n",
              " 'heards former personal assistant claims she was verbally abusive as a boss.',\n",
              " 'amber heard s former assistant testifies on behalf of johnny depp.',\n",
              " 'day four of the trial on april saw kate james heards former personal assistant paint a rather negative picture of her ex employer.',\n",
              " 'james testimony was part of a taped deposition that was played for the jury.',\n",
              " 'she claimed that she never saw any evidence that heard was abused or hurt by depp and that she was around nearly constantly as heards assistant.',\n",
              " 'she claimed that she was initially paid per hour to be heards assistant a job she had from to and that her salary was raised to per year but only after heard allegedly screamed abuses at her when she asked for a raise.',\n",
              " 'james claims that heard was a dramatic person in general and had seen the actress fly into a blind rage.',\n",
              " 'in contrast she described depp upon her first meeting him as shy peaceful quiet and said he behaved like a total southern gentleman.',\n",
              " 'james further alleged that heard once spit in her face while discussing the possibility of a raise and claimed that heard would have something akin to manic episodes allegedly calling james and texting incoherently at odd hours of the night.',\n",
              " 'james claimed that heard treated her own sister like a dog that you kicked and said she was once told by heards mother that she was terrified of her daughter.',\n",
              " 'former marriage counselor says both parties were aggressive.',\n",
              " 'laurel anderson a marriage counselor who saw the former couple for four sessions took the stage on day four and shared her accounting of what she claims to have seen from the pair over the short time she worked with them.',\n",
              " 'anderson said in a deposition taped in february and played in court on april that the two engaged in mutual abuse where heard would often initiate conflict or respond to perceived insults or provocation by fighting.',\n",
              " 'anderson claimed that depp would often try to deescalate fights and attempt to leave the situation but heard would amp up the argument.',\n",
              " 'if depp was going to leave her to deescalate the fight she would strike him to keep him there anderson claimed.',\n",
              " 'she also stated i think depp may have initiated it on occasions too.',\n",
              " 'that i am less sure on.',\n",
              " 'the chef and the finger tip.',\n",
              " 'johnny depp trial physician says chef found fingertip on kitchen floor.',\n",
              " 'depps personal doctor dr.',\n",
              " 'david kipper and depps nurse debbie lloyd appeared in video depositions as court returned on monday where they testified about a incident in which the tip of depps middle finger was sliced off.',\n",
              " 'lloyd said that shed been told several different stories about how the incident happened including one account that claimed heard threw a vodka bottle at depp which shattered on his hand and sliced his finger to the bone.',\n",
              " 'however kipper states that depp himself took the blame for the incident.',\n",
              " 'depp and heard were in australia at the time and kipper testified that he and lloyd had traveled with them to care for depp as he struggled with addiction issues.',\n",
              " 'depp texted kipper the night of the severing and wrote i cut the top of my middle finger off.',\n",
              " 'what should i do.',\n",
              " 'except of course go to a hospital.',\n",
              " 'kipper testified that he treated depps wounds and eventually took him to an emergency room.',\n",
              " 'kipper stated that after a search a chef on the premises found the tip of depps finger on the floor of the kitchen and it was successfully reattached.',\n",
              " 'kipper also testified that eventually heard also became his patient and that he never saw any instances of physical abuse nor did either party ever seek treatment for injuries that would have likely stemmed from domestic violence.',\n",
              " 'depp takes the stand.',\n",
              " 'johnny depp vs.',\n",
              " 'amber heard depp recalls altercation with heard resulting in severed finger.',\n",
              " 'the actor took the stand on april and said that the allegations of abuse leveled against him were not based in any species of truth.',\n",
              " 'it was a complete shock he said.',\n",
              " 'it just didnt need to go in that direction as nothing of the kind had ever happened.',\n",
              " 'in the relationship there were arguments and things of that nature but never did i myself reach the point of striking ms.',\n",
              " 'heard in any way nor have i ever struck any woman in my life.',\n",
              " 'the news of her accusations had sort of permeated the industry and then made its way through media and social media became quite a global lets say fact if you will depp testified.',\n",
              " 'since i knew that there was no truth to it whatsoever i felt it my responsibility to stand up not only for myself in that instance but stand up for my children.',\n",
              " 'its been six years of trying times for me.',\n",
              " 'strange when one day youre cinderella so to speak and then in.',\n",
              " 'seconds youre quasimodo.',\n",
              " 'i didnt deserve that nor did my children nor did the people whove believed in me all these years he said.',\n",
              " 'i didnt want those people to believe that i had done the wrong or lied to them or was a fraud.',\n",
              " 'i pride myself on honesty.',\n",
              " 'i pride myself on truth.',\n",
              " 'truth is the only thing im interested in.',\n",
              " 'lies will get you nowhere.',\n",
              " 'depp also discussed the beginning of his relationship with heard whom he met on the set of their film the rum diary.',\n",
              " 'apart from one on set kiss depp said his and heards relationship didnt start until the movies promotional tour years later.',\n",
              " 'she seemed to be the perfect partner in a sense for me he said of heard adding that at first it was as if she was too good to be true.',\n",
              " 'she was attentive she was loving she was smart she was kind she was funny she was understanding.',\n",
              " 'we had many things in common.',\n",
              " 'music literature things of that nature.',\n",
              " 'for that year or year and a half it was amazing he said.',\n",
              " 'there were a couple of things that stuck in my head that i noticed might be a little bit of a dilemma at some point.',\n",
              " 'within a year or year and a half she had become another person almost.',\n",
              " 'depp claims heard was abusive and he thought she was a danger to herself.',\n",
              " 'depp took the stand for his second day of testimony on april and elaborated on his claims that heards personality seemed to change after getting married telling the court i was suddenly just wrong about everything.',\n",
              " 'and ms.',\n",
              " 'heard was unable to be wrong.',\n",
              " 'you start to slowly realize that you are in a relationship with your mother he said claiming that heard commenced with demeaning name calling.',\n",
              " 'and that would escalate into a full scale argument.',\n",
              " 'according to depp the finger slicing incident was a result of heard throwing two glass vodka bottles at him but that he took the blame for the injury alleging that he didnt want to get her in trouble.',\n",
              " 'depp claimed i tried to just keep things as copacetic and easy as possible for everyone.',\n",
              " 'i did not want to put her name in that mix.',\n",
              " 'depp claimed that when he and heard had disagreements he would constantly lock himself in the bathroom to remove himself from the situation.',\n",
              " 'depp alleged that heard has a need for conflict.',\n",
              " 'she has a need for violence.',\n",
              " 'it erupts out of nowhere.',\n",
              " 'i wanted to try to make it work depp said addressing why he stayed in the relationship despite the alleged conflicts and fights.',\n",
              " 'i thought maybe i could help her.',\n",
              " 'i thought maybe i could bring her around because the amber heard that i knew for the first year year and a half was not this opponent.',\n",
              " 'depp also said that he decided to stay in the relationship because he claimed he feared heard would hurt herself if he left.',\n",
              " 'i remember very well that when my father left and my mother betty sue first attempted suicide that i woke up to and that visual in my head that was a direct result of my fathers leaving depp said claiming ms.',\n",
              " 'heard had spoken of suicide on a couple of occasions so that also becomes a factor.',\n",
              " 'thats also something that always lives in the back of your brain and that you fear.',\n",
              " 'because when i would leave sometimes.',\n",
              " 'she would stop me at the elevator with the security guards crying and screaming i cant live without you.',\n",
              " 'im going to die.',\n",
              " 'but you had to get out depp testified.',\n",
              " 'depp is cross examined.',\n",
              " 'on april depps testimony continued as he was cross examined by rottenborn heards lawyer.',\n",
              " 'depp was asked in court about text messages he sent to paul bettany in which their past drug used was discussed and negative comments about heard were made.',\n",
              " 'additionally depp was questioned about texts in which he referenced marilyn manson.',\n",
              " 'other texts messages including some between depp and his assistants as well as the actor and heards family members were also discussed.',\n",
              " 'in june depp who starred alongside bettany in several films and said he did drugs with the actor at times texted bettany about killing heard.',\n",
              " 'lets burn amber.',\n",
              " 'lets drown her before we burn her.',\n",
              " 'i will fk her her burnt corpse afterwards to make sure she is dead depp texted bettany.',\n",
              " 'as for manson depp testified we drank together.',\n",
              " 'weve had cocaine together maybe a couple of times.',\n",
              " 'when asked if hed ever taken pills with manson depp testified i once gave marilyn manson a pill so that he would stop talking so much.',\n",
              " 'after a back and forth about the length of depps sobriety rottenborn alleged that text messages from show that depp tried to get pills from mansons assistant.',\n",
              " 'at the time depp texted one of his assistants i do believe that ryan munson s gave you a wee baggage for me.',\n",
              " 'where does it reside.',\n",
              " 'the actor confirmed that munson was a nickname for manson.',\n",
              " 'depp is questioned about allegedly controlling heards career.',\n",
              " 'during his april testimony depp was shown a text message exchange between himself and heard in which she told him she was at a coffee meeting.',\n",
              " 'no fking meetings.',\n",
              " 'no movies.',\n",
              " 'why.',\n",
              " 'why do you deviate from our agreement.',\n",
              " 'depp responded.',\n",
              " 'what species of meeting.',\n",
              " 'fk it.',\n",
              " 'just tell me when you get home.',\n",
              " 'heards lawyer referenced the texts in an effort to claim that depp wanted to control the actress career an allegation the actor called absolutely not true.',\n",
              " 'we had an agreement to do something together he said.',\n",
              " 'this is not necessarily an angry text its just asking why do you deviate from our agreement.',\n",
              " 'its not about her doing films.',\n",
              " 'how do you think she got aquaman.',\n",
              " 'depp added referencing heards film.',\n",
              " 'depp went one step further claiming that not only was he not against heards career but that she had turned to him for advice about it.',\n",
              " 'she wanted to be able to escape the chains of being objectified by the hollywood system which is a difficult thing for any woman certainly unfortunately.',\n",
              " 'but she asked me how can i avoid being stereotyped as the beautiful blonde who gets her breasts out or goes naked.',\n",
              " 'depp testified.',\n",
              " 'i gave her my advice on it on how to avoid it which i thought was pretty accurate.',\n",
              " 'her ambition was stronger than what she received from my advice.',\n",
              " 'my advice that i thought long and hard about because i did care for her and i did understand.',\n",
              " 'on the same day heards lawyers played audio recordings of arguments between the former spouses.',\n",
              " 'one clip included heard telling depp to put his cigarettes out on someone else.',\n",
              " 'in response according to the recording depp said shut up fat a.',\n",
              " 'depp alleged that heards claim in the recording was grossly exaggerated.',\n",
              " 'heards mental health is brought into question.',\n",
              " 'following deeps days of testimony dr.',\n",
              " 'shannon curry a clinical and forensic psychologist hired by johnny depps legal team was called to the stand on april and testified that she had diagnosed heard with borderline personality disorder and histrionic personality disorder.',\n",
              " 'dr.',\n",
              " 'currys diagnoses which she described as two sides of the same coin came after reviewing multiple sources including testing heards past medical records the actress self report and two meetings with the aquaman star.',\n",
              " 'dr.',\n",
              " 'curry described personality as the way we think we feel and we act that make us who we are.',\n",
              " 'thus a personality disorder she said is some sort of dysfunction in those enduring traits.',\n",
              " 'when it comes to histrionic personality disorder dr.',\n",
              " 'curry said that the hallmarks include an overly dramatic presentation drama and shallowness a need to always be the center of attention and a quick shift between emotions.',\n",
              " 'she would suddenly be one way and then she would become very animated or very sad dr.',\n",
              " 'curry said of heard.',\n",
              " 'when people are displaying these emotions with a personality disorder theres a sense of shallowness to it.',\n",
              " 'people who are observing them will feel like its almost play acting.',\n",
              " 'she never really indicated a vulnerable feeling of her own.',\n",
              " 'while evaluating heard dr.',\n",
              " 'curry said she noticed that the actress had a very sophisticated way of minimizing any personal problems.',\n",
              " 'as for borderline personality disorder dr.',\n",
              " 'curry explained that its characterized by instability in personal relationships emotions behavior sense of self and identity as well as emotional reactivity all of which is driven by this underlying terror of abandonment.',\n",
              " 'people with the disorder dr.',\n",
              " 'curry said make desperate attempts to keep people from abandoning them using behaviors that are very extreme and concerning to the people around them when they do so.',\n",
              " 'borderline personality disorder causes people to start relationships very intensely before turning negative.',\n",
              " 'dr.',\n",
              " 'curry later described heard as very likable but testified that her testing showed that she approached it in a manor.',\n",
              " 'that very clearly minimized any psychological dysfunction and presented herself as free of any problems.',\n",
              " 'she did so in a way that was very sophisticated not obvious curry added of heard.',\n",
              " 'additionally dr.',\n",
              " 'curry said that she does not believe that heard has ptsd as the actress has claimed.',\n",
              " 'ms.',\n",
              " 'heard did not have ptsd dr.',\n",
              " 'curry said and there were also pretty significant indications that she was grossly exaggerating symptoms of ptsd when asked about them.',\n",
              " 'depps former agent testifies about the loss of pirates role.',\n",
              " 'johnny depp trial agent christian carino testifies actor lost pirates after amber heard fallout.',\n",
              " 'depps former talent agent christian carino attended the trial remotely on april saying that he thought depp lost the sixth pirates movie a follow up to s pirates of the caribbean dead men tell no tales due to heards allegations against him.',\n",
              " 'in it was reported that pirates writer ted elliott and chernobyl creator craig mazin were developing a new film in the franchise with jerry bruckheimer to return as producer.',\n",
              " 'depp testified earlier in the week that disney cut ties with him in following heards allegations of abuse a decision that carino believed was a direct result of heards allegations against him.',\n",
              " 'my opinion is that it was related to the accusations that amber has made carino told heards lawyer elaine bredehoft before sharing that his opinion was based on conversations he had with disney and other executives both internal and external.',\n",
              " 'the caa agent who started representing depp in late said he had between five and conversations with studios and other executives about depps situation including bruckheimer and colleagues at caa.',\n",
              " 'while he didnt remember when these conversations took place he did say it was around the time the studio was casting for the sixth pirates movie.',\n",
              " 'it wouldve been whenever the decisions were being made about how to cast that movie carino maintained before adding that the studio was having difficulty employing depp.',\n",
              " 'carino said that while the reason wasnt explicitly stated it was obvious and everyone knew.',\n",
              " 'everyone was aware of what was garnering the attention of the studios in determining whether or not he would be employed carino explained.',\n",
              " 'when asked if bruckheimer ever specifically stated that the reason depp wasnt being hired for the sixth pirates film or other projects was because of heards domestic violence allegations carino said no but maintained that in hollywood things like this are just understood.',\n",
              " 'bredehoft went on to ask carino if he knew if depp had any issues such as being late or intoxicated during the filming of the fifth pirates movie.',\n",
              " 'im aware of him being tardy but hes been tardy on everything his entire life carino shared.',\n",
              " 'while he said that depps tardiness was troublesome the real issue on the fifth pirates film was the creative differences depp had with disney in regard to how the film was edited.',\n",
              " 'carino went on to share that efforts were made by him and others at caa to book roles for depp after the filming of the fifth pirates movie.',\n",
              " 'benjamin chew depps attorney questioned carino about his representation of depp and his relationship with heard whom he also represented.',\n",
              " 'carino testified that he remained friends with both of them through their divorce and even tried to arrange a meeting between heard and depp at heards request.',\n",
              " 'at some point around that time she wanted for me to get them together in person carino shared.',\n",
              " 'i talked to johnny about it.',\n",
              " 'carino said depp was reluctant to meet since heard had a temporary restraining order in place against him.',\n",
              " 'i remember there was a fair amount of discussion about the tro and how we would deal with that because nobody wanted johnny accused of violating the tro carino explained.',\n",
              " 'depp later agreed to meet after heard said she would not accuse him of violating the temporary restraining order.',\n",
              " 'i arranged the meeting.',\n",
              " 'johnny was in san francisco on tour and i arranged to borrow a friends house.',\n",
              " 'amber and i flew to san francisco and drove to the house and johnny showed up a few hours later he continued.',\n",
              " 'after a few hours they moved the meeting to a hotel where the pair continued to talk but the conversation quickly turned into an argument.',\n",
              " 'laura wasser depps divorce attorney also attended remotely where she testified to knowing carino and shared that she knew that carino helped arrange that meeting in san francisco between depp and heard.',\n",
              " 'that sounds vaguely familiar wasser shared before revealing that she was not on the telephone during that meeting.',\n",
              " 'elon musk believed to have donated to the aclu for heard.',\n",
              " 'johnny depp vs.',\n",
              " 'amber heard trial elon musk mentioned as ambers accused of lying about finances.',\n",
              " 'elon musk is thought to have donated half a million dollars to the american civil liberties union in heards name.',\n",
              " 'on wednesday april terence dougherty the chief operating officer and general counsel of the aclu testified about what donations the organization had received from and on behalf of the former couple.',\n",
              " 'doughertys virtual testimony was recorded in december.',\n",
              " 'doughertys testimony was in response to heards statement which said that she was splitting her million depp divorce settlement equally between the aclu and the children s hospital of los angeles.',\n",
              " 'the same year that depp and heards divorce was finalized the actress began dating musk.',\n",
              " 'dougherty testified that the aclu received a donation from a donor advised fund at vanguard.',\n",
              " 'dougherty said that he believes that donor to be musk adding that the tesla founder emailed the organization about the donation.',\n",
              " 'in regard to musks supposed donation dougherty later testified that the aclu will take contributions from other donors toward a pledge no matter what.',\n",
              " 'thus that was credited toward heards.',\n",
              " 'million pledge.',\n",
              " 'bodyguard calls defecation in bed practical joke gone wrong.',\n",
              " 'on thursday april depps bodyguard sterling jenkins addressed the story about heard allegedly defecating on a bed in the former couples penthouse apartment in los angeles during the actress th birthday party in april.',\n",
              " 'jenkins said he spoke to heard about the alleged incident when he drove her to coachella.',\n",
              " 'we had a conversation pertaining to the surprise she left in the boss bed prior to leaving the apartment jenkins said adding that heard called it a horrible practical joke gone wrong.']"
            ]
          },
          "metadata": {},
          "execution_count": 3
        }
      ]
    },
    {
      "cell_type": "code",
      "source": [
        "symbols = list(set(text_string_format))\n",
        "symbols_len = len(symbols)"
      ],
      "metadata": {
        "id": "8HhE4TPnkJ-h"
      },
      "execution_count": null,
      "outputs": []
    },
    {
      "cell_type": "code",
      "source": [
        "symbols"
      ],
      "metadata": {
        "colab": {
          "base_uri": "https://localhost:8080/"
        },
        "id": "kIufRu_qkRtT",
        "outputId": "cca861e5-9e18-40ad-f5bf-816d4f670d81"
      },
      "execution_count": null,
      "outputs": [
        {
          "output_type": "execute_result",
          "data": {
            "text/plain": [
              "['u',\n",
              " 'y',\n",
              " 'z',\n",
              " '.',\n",
              " 's',\n",
              " 'h',\n",
              " ' ',\n",
              " 'f',\n",
              " 'b',\n",
              " 'a',\n",
              " 'p',\n",
              " 'o',\n",
              " 'l',\n",
              " 'g',\n",
              " 't',\n",
              " 'd',\n",
              " 'x',\n",
              " 'c',\n",
              " 'r',\n",
              " 'n',\n",
              " 'j',\n",
              " 'i',\n",
              " 'q',\n",
              " 'w',\n",
              " 'v',\n",
              " 'k',\n",
              " 'e',\n",
              " 'm']"
            ]
          },
          "metadata": {},
          "execution_count": 5
        }
      ]
    },
    {
      "cell_type": "code",
      "source": [
        "symbols_len"
      ],
      "metadata": {
        "colab": {
          "base_uri": "https://localhost:8080/"
        },
        "id": "KjuoWJyIlwTM",
        "outputId": "f4721d03-29e0-40bc-843b-93d864d1172d"
      },
      "execution_count": null,
      "outputs": [
        {
          "output_type": "execute_result",
          "data": {
            "text/plain": [
              "28"
            ]
          },
          "metadata": {},
          "execution_count": 6
        }
      ]
    },
    {
      "cell_type": "code",
      "source": [
        "from tqdm import tqdm # for %\n",
        "\n",
        "def get_position(char, array):\n",
        "    for i in range(len(array)):\n",
        "        if array[i] == char:\n",
        "            return i\n",
        "\n",
        "def encode_char(char, symbols, number_of_symbols=28):\n",
        "    one_hot = [0] * number_of_symbols\n",
        "    ind = get_position(char, symbols)\n",
        "    one_hot[ind] = 1\n",
        "    return one_hot\n",
        "\n",
        "def encode_line(line, symbols, number_of_symbols=28):\n",
        "    sentence = []\n",
        "    for char in line:\n",
        "        sentence.append(encode_char(char, symbols, number_of_symbols))\n",
        "    return sentence\n",
        "\n",
        "def encode_all(ds, symbols, number_of_symbols=28):\n",
        "    text = []\n",
        "    for line in tqdm(ds):\n",
        "        text.append(encode_line(line, symbols, number_of_symbols))\n",
        "    return text"
      ],
      "metadata": {
        "id": "lYQSEcCykUZH"
      },
      "execution_count": null,
      "outputs": []
    },
    {
      "cell_type": "code",
      "source": [
        "data_one_hot = encode_all(data, symbols)"
      ],
      "metadata": {
        "colab": {
          "base_uri": "https://localhost:8080/"
        },
        "id": "wjzxwwQWl3Ra",
        "outputId": "7f349406-6989-4ad6-a59a-5c011b1d4b43"
      },
      "execution_count": null,
      "outputs": [
        {
          "output_type": "stream",
          "name": "stderr",
          "text": [
            "100%|██████████| 394/394 [00:00<00:00, 4508.17it/s]\n"
          ]
        }
      ]
    },
    {
      "cell_type": "code",
      "source": [
        "print(data_one_hot[0][0])"
      ],
      "metadata": {
        "colab": {
          "base_uri": "https://localhost:8080/"
        },
        "id": "yErTNlhCl5SA",
        "outputId": "f3c09a40-414c-4d88-dfe0-ebc2890d6105"
      },
      "execution_count": null,
      "outputs": [
        {
          "output_type": "stream",
          "name": "stdout",
          "text": [
            "[0, 0, 0, 0, 0, 0, 0, 0, 0, 0, 0, 0, 0, 0, 0, 0, 0, 0, 0, 0, 1, 0, 0, 0, 0, 0, 0, 0]\n"
          ]
        }
      ]
    },
    {
      "cell_type": "code",
      "source": [
        "import numpy as np\n",
        "\n",
        "def divide_X_y(ds, window_size=20):\n",
        "    X = []\n",
        "    y = []\n",
        "    for sentence in tqdm(ds):\n",
        "        if len(sentence) <= window_size:\n",
        "            continue\n",
        "        for i in range(0, len(sentence) - window_size):\n",
        "            cur_x = sentence[i:i + window_size]\n",
        "            cur_y = sentence[i + window_size]\n",
        "            X.append(cur_x)\n",
        "            y.append(cur_y)\n",
        "    return np.array(X), np.array(y)"
      ],
      "metadata": {
        "id": "HUmKM8w-mIFi"
      },
      "execution_count": null,
      "outputs": []
    },
    {
      "cell_type": "code",
      "source": [
        "X, y = divide_X_y(data_one_hot)"
      ],
      "metadata": {
        "colab": {
          "base_uri": "https://localhost:8080/"
        },
        "id": "t6yvLzROmZ3r",
        "outputId": "7869c49f-3fae-4ec6-8338-5391f70257bb"
      },
      "execution_count": null,
      "outputs": [
        {
          "output_type": "stream",
          "name": "stderr",
          "text": [
            "100%|██████████| 394/394 [00:00<00:00, 4155.37it/s]\n"
          ]
        }
      ]
    },
    {
      "cell_type": "code",
      "source": [
        "print(X.shape, y.shape)"
      ],
      "metadata": {
        "colab": {
          "base_uri": "https://localhost:8080/"
        },
        "id": "8SBLO4LZmeCx",
        "outputId": "799ecef5-9312-453e-b7a9-53a98e355da1"
      },
      "execution_count": null,
      "outputs": [
        {
          "output_type": "stream",
          "name": "stdout",
          "text": [
            "(29711, 20, 28) (29711, 28)\n"
          ]
        }
      ]
    },
    {
      "cell_type": "code",
      "source": [
        "print(X[0])"
      ],
      "metadata": {
        "colab": {
          "base_uri": "https://localhost:8080/"
        },
        "id": "EXff5GXAmggN",
        "outputId": "b69ef240-30c8-4d1f-832e-c3e8a2f98ec9"
      },
      "execution_count": null,
      "outputs": [
        {
          "output_type": "stream",
          "name": "stdout",
          "text": [
            "[[0 0 0 0 0 0 0 0 0 0 0 0 0 0 0 0 0 0 0 0 1 0 0 0 0 0 0 0]\n",
            " [0 0 0 0 0 0 0 0 0 0 0 1 0 0 0 0 0 0 0 0 0 0 0 0 0 0 0 0]\n",
            " [0 0 0 0 0 1 0 0 0 0 0 0 0 0 0 0 0 0 0 0 0 0 0 0 0 0 0 0]\n",
            " [0 0 0 0 0 0 0 0 0 0 0 0 0 0 0 0 0 0 0 1 0 0 0 0 0 0 0 0]\n",
            " [0 0 0 0 0 0 0 0 0 0 0 0 0 0 0 0 0 0 0 1 0 0 0 0 0 0 0 0]\n",
            " [0 1 0 0 0 0 0 0 0 0 0 0 0 0 0 0 0 0 0 0 0 0 0 0 0 0 0 0]\n",
            " [0 0 0 0 0 0 1 0 0 0 0 0 0 0 0 0 0 0 0 0 0 0 0 0 0 0 0 0]\n",
            " [0 0 0 0 0 0 0 0 0 0 0 0 0 0 0 1 0 0 0 0 0 0 0 0 0 0 0 0]\n",
            " [0 0 0 0 0 0 0 0 0 0 0 0 0 0 0 0 0 0 0 0 0 0 0 0 0 0 1 0]\n",
            " [0 0 0 0 0 0 0 0 0 0 1 0 0 0 0 0 0 0 0 0 0 0 0 0 0 0 0 0]\n",
            " [0 0 0 0 0 0 0 0 0 0 1 0 0 0 0 0 0 0 0 0 0 0 0 0 0 0 0 0]\n",
            " [0 0 0 0 0 0 1 0 0 0 0 0 0 0 0 0 0 0 0 0 0 0 0 0 0 0 0 0]\n",
            " [0 0 0 0 0 0 0 0 0 0 0 0 0 0 0 0 0 0 0 0 0 1 0 0 0 0 0 0]\n",
            " [0 0 0 0 1 0 0 0 0 0 0 0 0 0 0 0 0 0 0 0 0 0 0 0 0 0 0 0]\n",
            " [0 0 0 0 0 0 1 0 0 0 0 0 0 0 0 0 0 0 0 0 0 0 0 0 0 0 0 0]\n",
            " [0 0 0 0 1 0 0 0 0 0 0 0 0 0 0 0 0 0 0 0 0 0 0 0 0 0 0 0]\n",
            " [0 0 0 0 0 0 0 0 0 0 0 0 0 0 1 0 0 0 0 0 0 0 0 0 0 0 0 0]\n",
            " [0 0 0 0 0 0 0 0 0 0 0 0 0 0 0 0 0 0 0 0 0 1 0 0 0 0 0 0]\n",
            " [0 0 0 0 0 0 0 0 0 0 0 0 1 0 0 0 0 0 0 0 0 0 0 0 0 0 0 0]\n",
            " [0 0 0 0 0 0 0 0 0 0 0 0 1 0 0 0 0 0 0 0 0 0 0 0 0 0 0 0]]\n"
          ]
        }
      ]
    },
    {
      "cell_type": "code",
      "source": [
        "print(y[0])"
      ],
      "metadata": {
        "colab": {
          "base_uri": "https://localhost:8080/"
        },
        "id": "WFf1QQ2imtsn",
        "outputId": "87fd8992-fe79-4471-ec6a-4566c27391a3"
      },
      "execution_count": null,
      "outputs": [
        {
          "output_type": "stream",
          "name": "stdout",
          "text": [
            "[0 0 0 0 0 0 1 0 0 0 0 0 0 0 0 0 0 0 0 0 0 0 0 0 0 0 0 0]\n"
          ]
        }
      ]
    },
    {
      "cell_type": "markdown",
      "source": [
        "# LSTM"
      ],
      "metadata": {
        "id": "jUEWTsLBnCLN"
      }
    },
    {
      "cell_type": "code",
      "source": [
        "import tensorflow as tf\n",
        "lstm = tf.keras.models.Sequential()\n",
        "lstm.add(tf.keras.layers.LSTM(128, input_shape=(20, symbols_len), dropout=0.2))\n",
        "lstm.add(tf.keras.layers.Dense(symbols_len, activation='softmax'))\n",
        "lstm.compile(loss='categorical_crossentropy', optimizer='adam')"
      ],
      "metadata": {
        "id": "DDuXl7fDmvK0"
      },
      "execution_count": null,
      "outputs": []
    },
    {
      "cell_type": "code",
      "source": [
        "lstm.fit(X, y, epochs=10)"
      ],
      "metadata": {
        "colab": {
          "base_uri": "https://localhost:8080/"
        },
        "id": "yLfv_s2cnBVO",
        "outputId": "68f8ad5e-9c5d-4a3e-d3f6-3e51ffaf911b"
      },
      "execution_count": null,
      "outputs": [
        {
          "output_type": "stream",
          "name": "stdout",
          "text": [
            "Epoch 1/10\n",
            "929/929 [==============================] - 21s 21ms/step - loss: 2.6419\n",
            "Epoch 2/10\n",
            "929/929 [==============================] - 19s 20ms/step - loss: 2.3580\n",
            "Epoch 3/10\n",
            "929/929 [==============================] - 19s 21ms/step - loss: 2.2512\n",
            "Epoch 4/10\n",
            "929/929 [==============================] - 19s 20ms/step - loss: 2.1728\n",
            "Epoch 5/10\n",
            "929/929 [==============================] - 19s 20ms/step - loss: 2.1069\n",
            "Epoch 6/10\n",
            "929/929 [==============================] - 19s 21ms/step - loss: 2.0507\n",
            "Epoch 7/10\n",
            "929/929 [==============================] - 19s 21ms/step - loss: 2.0008\n",
            "Epoch 8/10\n",
            "929/929 [==============================] - 19s 20ms/step - loss: 1.9518\n",
            "Epoch 9/10\n",
            "929/929 [==============================] - 19s 21ms/step - loss: 1.9095\n",
            "Epoch 10/10\n",
            "929/929 [==============================] - 19s 21ms/step - loss: 1.8753\n"
          ]
        },
        {
          "output_type": "execute_result",
          "data": {
            "text/plain": [
              "<keras.callbacks.History at 0x7fd414c2fe90>"
            ]
          },
          "metadata": {},
          "execution_count": 22
        }
      ]
    },
    {
      "cell_type": "code",
      "source": [
        "def sample(predictions):\n",
        "    predictions = np.log(predictions)\n",
        "    exp_predictions = np.exp(predictions)\n",
        "    predictions = exp_predictions / np.sum(exp_predictions)\n",
        "    probabilities = np.random.multinomial(1, predictions, 1)\n",
        "    return np.argmax(probabilities)\n",
        "\n",
        "def lstm_predict(model, string, symbols):\n",
        "    print(string, end=\"\")\n",
        "    string = encode_line(string, symbols)\n",
        "    while True:\n",
        "        prediction = model.predict(np.array([string]))\n",
        "        # print(prediction[0])\n",
        "        ind = sample(prediction[0])\n",
        "        # ind = np.argmax(prediction[0])\n",
        "        result = symbols[ind]\n",
        "        print(result, end=\"\")\n",
        "        if result == DOT:\n",
        "            break\n",
        "        string.append(encode_char(result, symbols))\n",
        "        string = string[1:]"
      ],
      "metadata": {
        "id": "YaEjbWiNoZ2K"
      },
      "execution_count": null,
      "outputs": []
    },
    {
      "cell_type": "code",
      "source": [
        "example = \"johnny was damaged \"\n",
        "lstm_predict(lstm, example, symbols)"
      ],
      "metadata": {
        "colab": {
          "base_uri": "https://localhost:8080/"
        },
        "id": "dxpcO19PpATj",
        "outputId": "168988bb-91ad-4f14-d8bb-ab06e30ea41d"
      },
      "execution_count": null,
      "outputs": [
        {
          "output_type": "stream",
          "name": "stdout",
          "text": [
            "johnny was damaged by ctill at the actress thr ng laiss not on the coupiving text miotestorce."
          ]
        }
      ]
    },
    {
      "cell_type": "markdown",
      "source": [
        "# Markov chain"
      ],
      "metadata": {
        "id": "6VDwP5EGp_kn"
      }
    },
    {
      "cell_type": "code",
      "source": [
        "def markov_build(text, length=10):\n",
        "    transitions = dict()\n",
        "    for i in tqdm(range(len(text) - length - 1)):\n",
        "        cur = text[i : i + length]\n",
        "        next = text[i + 1 : i + length + 1]\n",
        "        if cur not in transitions:\n",
        "            transitions[cur] = dict()\n",
        "        if next not in transitions[cur]:\n",
        "            transitions[cur][next] = 1\n",
        "        else:\n",
        "            transitions[cur][next] += 1\n",
        "    return transitions"
      ],
      "metadata": {
        "id": "PZrRKcXYp1d1"
      },
      "execution_count": null,
      "outputs": []
    },
    {
      "cell_type": "code",
      "source": [
        "trans = markov_build(text_string_format)"
      ],
      "metadata": {
        "colab": {
          "base_uri": "https://localhost:8080/"
        },
        "id": "Z2FTZtL0qC9G",
        "outputId": "67a6f3ba-197c-4359-df9e-56562af8e235"
      },
      "execution_count": null,
      "outputs": [
        {
          "output_type": "stream",
          "name": "stderr",
          "text": [
            "100%|██████████| 37278/37278 [00:00<00:00, 298772.21it/s]\n"
          ]
        }
      ]
    },
    {
      "cell_type": "code",
      "source": [
        "check_keys = list(trans.keys())\n",
        "print(check_keys[0])\n",
        "print(trans[check_keys[0]])"
      ],
      "metadata": {
        "colab": {
          "base_uri": "https://localhost:8080/"
        },
        "id": "LinAISn-qEOC",
        "outputId": "fcbd1f70-4808-4f89-ac50-f320ecde2460"
      },
      "execution_count": null,
      "outputs": [
        {
          "output_type": "stream",
          "name": "stdout",
          "text": [
            "johnny dep\n",
            "{'ohnny depp': 12}\n"
          ]
        }
      ]
    },
    {
      "cell_type": "code",
      "source": [
        "def count_probs(transitions):\n",
        "    probabilities = dict()\n",
        "    for key, value in transitions.items():\n",
        "        all = 0\n",
        "        probabilities[key] = dict()\n",
        "        for k, v in value.items():\n",
        "            all += v\n",
        "        for k, v in value.items():\n",
        "            probabilities[key][k] = v / all\n",
        "    return probabilities"
      ],
      "metadata": {
        "id": "cmO-1qW1qFXy"
      },
      "execution_count": null,
      "outputs": []
    },
    {
      "cell_type": "code",
      "source": [
        "probs = count_probs(trans)"
      ],
      "metadata": {
        "id": "AiCr95aBqLFe"
      },
      "execution_count": null,
      "outputs": []
    },
    {
      "cell_type": "code",
      "source": [
        "check_keys = list(probs.keys())\n",
        "print(check_keys[0])\n",
        "print(probs[check_keys[0]])"
      ],
      "metadata": {
        "colab": {
          "base_uri": "https://localhost:8080/"
        },
        "id": "DM-X98ORqMqN",
        "outputId": "9edd77eb-dfe4-4c71-c3b4-fda48c344e15"
      },
      "execution_count": null,
      "outputs": [
        {
          "output_type": "stream",
          "name": "stdout",
          "text": [
            "johnny dep\n",
            "{'ohnny depp': 1.0}\n"
          ]
        }
      ]
    },
    {
      "cell_type": "code",
      "source": [
        "check_keys = list(probs.keys())\n",
        "print(check_keys[2])\n",
        "print(probs[check_keys[2]])"
      ],
      "metadata": {
        "colab": {
          "base_uri": "https://localhost:8080/"
        },
        "id": "nP4o6AxBrLxp",
        "outputId": "c6a1a186-4fc5-42f9-b2c9-cf08b8a51178"
      },
      "execution_count": null,
      "outputs": [
        {
          "output_type": "stream",
          "name": "stdout",
          "text": [
            "hnny depp \n",
            "{'nny depp i': 0.125, 'nny depp t': 0.375, 'nny depp a': 0.25, 'nny depp v': 0.25}\n"
          ]
        }
      ]
    },
    {
      "cell_type": "code",
      "source": [
        "def find_max(mapa):\n",
        "    best_prob = 0\n",
        "    best_res = ''\n",
        "    for key, value in mapa.items():\n",
        "        if value > best_prob:\n",
        "            best_prob = value\n",
        "            best_res = key\n",
        "    return best_res"
      ],
      "metadata": {
        "id": "L8Yh-lHzqNzF"
      },
      "execution_count": null,
      "outputs": []
    },
    {
      "cell_type": "code",
      "source": [
        "def markov_predict(probabilities, string, length=10):\n",
        "    print(string, end=\"\")\n",
        "    string = string[-length:]\n",
        "    while True:\n",
        "        if string not in probabilities:\n",
        "            prediction = DOT\n",
        "        else:\n",
        "            prediction = find_max(probabilities[string])\n",
        "        print(prediction[-1], end=\"\")\n",
        "        if prediction[-1] == DOT:\n",
        "            return\n",
        "        string += prediction\n",
        "        string = string[-length:]"
      ],
      "metadata": {
        "id": "oi3A6NWgqO43"
      },
      "execution_count": null,
      "outputs": []
    },
    {
      "cell_type": "code",
      "source": [
        "example = \"johnny depp \"\n",
        "markov_predict(probs, example)"
      ],
      "metadata": {
        "colab": {
          "base_uri": "https://localhost:8080/"
        },
        "id": "mtGScKBRqP7e",
        "outputId": "3c599988-6b02-4180-b64f-d084b01f0e34"
      },
      "execution_count": null,
      "outputs": [
        {
          "output_type": "stream",
          "name": "stdout",
          "text": [
            "johnny depp trial amber heard trial continues everything we know."
          ]
        }
      ]
    },
    {
      "cell_type": "code",
      "source": [],
      "metadata": {
        "id": "ecKsbTq-qRFT"
      },
      "execution_count": null,
      "outputs": []
    }
  ]
}